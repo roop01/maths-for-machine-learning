{
  "nbformat": 4,
  "nbformat_minor": 0,
  "metadata": {
    "colab": {
      "provenance": [],
      "authorship_tag": "ABX9TyPRikS9wU3Md0HpfG3uZdeL",
      "include_colab_link": true
    },
    "kernelspec": {
      "name": "python3",
      "display_name": "Python 3"
    },
    "language_info": {
      "name": "python"
    }
  },
  "cells": [
    {
      "cell_type": "markdown",
      "metadata": {
        "id": "view-in-github",
        "colab_type": "text"
      },
      "source": [
        "<a href=\"https://colab.research.google.com/github/roop01/maths_for_machine_learning/blob/main/linear_algebra/01_linear_algebra_intro.ipynb\" target=\"_parent\"><img src=\"https://colab.research.google.com/assets/colab-badge.svg\" alt=\"Open In Colab\"/></a>"
      ]
    },
    {
      "cell_type": "markdown",
      "source": [
        "# **Introduction to Linear Algebra**\n",
        "\n",
        "Linear Algebra is a branch of mathematics. It provides basic structures to represent data and various numerical methods and tools to solve problems.\n",
        "\n",
        "Data Science deals with extracting meaningful insights from the data. We need to represent data and perform numerous operations on them to extract insights. Linear Algebra helps in representation and operations on data in Data Science and Machine Learning.\n",
        "\n",
        "* **Deep Learning**  - Representing input to the model and model parameters as vector and matrices and making calculations using Linear Algebraic operations.\n",
        "* **Image data**- Representing images as matrices and doing various geometrical transformations on them using Linear Algebraic operations.\n",
        "* **Recommender system**  - using linear algebraic concepts to measure similarity.\n",
        "* **Multiple linear regression**  - Solving multiple linear  equations using linear algebra\n",
        "* **Feature extraction (PCA)** - using the linear algebraic concept of eigenvalue and eigenvectors\n",
        "* **One hot encoding** - A matrix representation of the encoding\n",
        "\n"
      ],
      "metadata": {
        "id": "g-Rp8M8x3Ck9"
      }
    },
    {
      "cell_type": "markdown",
      "source": [
        "**Objective of this tutorial:**\n",
        "\n",
        "* Describe vectors, matrices and commonly used operations on them\n",
        "* Identify matrices and their properties\n",
        "* Describe linearly independent vectors\n",
        "* Apply linear transformation on matrices\n",
        "* Solve the system of linear equations\n"
      ],
      "metadata": {
        "id": "Sl60Hz4jQWdE"
      }
    },
    {
      "cell_type": "markdown",
      "source": [
        "# **Vectors and Matrices**\n",
        "\n",
        "The basic building blocks of Linear Algebra are **scalar**, **vector**, and **matrix**. A Scalar is a quantity, described by a numeric value. A Vector is an ordered collection of scalars. A Matrix is a collection of vectors.\n",
        "\n",
        "Linear Algebraic operations are applied to the entire object (vector/matrix) instead of individual data points one at a time. This technique is called as **Vectorization** and it is more efficient while dealing with operations on large data.\n",
        "\n",
        "\n"
      ],
      "metadata": {
        "id": "kpWxw1XT4AYd"
      }
    },
    {
      "cell_type": "markdown",
      "source": [
        "# **Vector**\n",
        "\n",
        "A vector is an ordered collection of scalars. It can be represented in two forms:\n",
        "\n",
        "**Column vector:** Contains n rows and 1 column\n",
        "\n",
        "**Row vector:** Contains 1 row and n columns\n",
        "\n",
        "The number of scalars in a vector is called its **dimension** or order.\n",
        "\n",
        "Example: A row vector v of dimension 3 : v= [1 -2 3]\n",
        "\n"
      ],
      "metadata": {
        "id": "WS4DIBkiPcPk"
      }
    },
    {
      "cell_type": "code",
      "source": [
        "import numpy as np\n",
        "# creating a column vector with 2 rows and 1 column\n",
        "\n",
        "col_vec = np.array([[4],[3]])\n",
        "print (\"A column vector\\n\",col_vec)\n",
        "print(\"Shape of vector=\",col_vec.shape)\n",
        "print(\"------------------------------------\")\n",
        "\n",
        "# creating a row vector with 1 row and 3 columns\n",
        "row_vec = np.array([[4,-1,2]])\n",
        "print(\"A row vector\\n\",row_vec)\n",
        "print(\"Shape of vector=\",row_vec.shape)\n",
        "print(\"------------------------------------\")\n",
        "\n",
        "vector=np.array([[4],[-1],[2]])\n",
        "print(\"The vector\\n\",vector)\n",
        "print(\"Shape of vector: \", vector.shape)\n"
      ],
      "metadata": {
        "colab": {
          "base_uri": "https://localhost:8080/"
        },
        "id": "ytpuKQ_tFhOP",
        "outputId": "99b24659-c3bb-43b8-ca1a-1f03c41318a4"
      },
      "execution_count": 17,
      "outputs": [
        {
          "output_type": "stream",
          "name": "stdout",
          "text": [
            "A column vector\n",
            " [[4]\n",
            " [3]]\n",
            "Shape of vector= (2, 1)\n",
            "------------------------------------\n",
            "A row vector\n",
            " [[ 4 -1  2]]\n",
            "Shape of vector= (1, 3)\n",
            "------------------------------------\n",
            "The vector\n",
            " [[ 4]\n",
            " [-1]\n",
            " [ 2]]\n",
            "Shape of vector:  (3, 1)\n"
          ]
        }
      ]
    },
    {
      "cell_type": "markdown",
      "source": [
        "**Zero vector is a vector in which each element is zero.**"
      ],
      "metadata": {
        "id": "TYbMPxQWISvt"
      }
    },
    {
      "cell_type": "code",
      "source": [
        "import numpy as np\n",
        "#Zero row vector of dimension 3\n",
        "zero_v_1 = np.array([0,0,0])\n",
        "print(zero_v_1)\n",
        "\n",
        "#Zero row vector of dimension 3\n",
        "zero_v_2 = np.zeros(3)\n",
        "print(\"Zero row vector: \", zero_v_2)\n",
        "print(\"Shape of zero row vector: \", zero_v_2.shape)\n",
        "\n",
        "#Zero column vector of dimension 3 using np.zeros() and reshape() function\n",
        "zero_v_3 = np.zeros(3).reshape(3,-1)\n",
        "print(\"Zero column vector: \\n\",zero_v_3)\n",
        "print(\"Shape of zero column vector: \", zero_v_3.shape)\n"
      ],
      "metadata": {
        "colab": {
          "base_uri": "https://localhost:8080/"
        },
        "id": "E0Hw5qWsF7jU",
        "outputId": "047e2f64-6223-41e3-ad76-584cb4b50a66"
      },
      "execution_count": 18,
      "outputs": [
        {
          "output_type": "stream",
          "name": "stdout",
          "text": [
            "[0 0 0]\n",
            "Zero row vector:  [0. 0. 0.]\n",
            "Shape of zero row vector:  (3,)\n",
            "Zero column vector: \n",
            " [[0.]\n",
            " [0.]\n",
            " [0.]]\n",
            "Shape of zero column vector:  (3, 1)\n"
          ]
        }
      ]
    },
    {
      "cell_type": "markdown",
      "source": [
        "\n",
        " **One vector is a vector in which each element is one.**"
      ],
      "metadata": {
        "id": "7jjYa6gSHdkS"
      }
    },
    {
      "cell_type": "code",
      "source": [
        "import numpy as np\n",
        "#One vector of dimension 3\n",
        "one_v_1 = np.array([1,1,1])\n",
        "print(one_v_1)\n",
        "\n",
        "#One vector of dimension 3 using np.ones() function\n",
        "one_v_2 = np.ones(3)\n",
        "print(\"Row Ones vector of dimension 3: \", one_v_2)\n",
        "\n",
        "#Column vector of ones of dimension 3 using np.ones() and reshape() function\n",
        "one_v_3 = np.ones(3).reshape(3,-1)\n",
        "print(\"Column vector of ones of dimension 3: \\n\", one_v_3)\n"
      ],
      "metadata": {
        "colab": {
          "base_uri": "https://localhost:8080/"
        },
        "id": "yfNRdeEXd1az",
        "outputId": "f3148891-48ca-44cb-88ee-34e6d6765cd6"
      },
      "execution_count": 19,
      "outputs": [
        {
          "output_type": "stream",
          "name": "stdout",
          "text": [
            "[1 1 1]\n",
            "Row Ones vector of dimension 3:  [1. 1. 1.]\n",
            "Column vector of ones of dimension 3: \n",
            " [[1.]\n",
            " [1.]\n",
            " [1.]]\n"
          ]
        }
      ]
    },
    {
      "cell_type": "markdown",
      "source": [
        "**Magnitude of a vector**\n",
        "\n",
        "A vector is also defined as an object which has both magnitude and direction. Magnitude is the distance between the origin and the point representing the vector. The direction is the path of displacement from the origin to the point which represents the vector.\n",
        "\n",
        "The norm() function in NumPy helps in finding the magnitude of a vector.\n",
        "Consider a vector a = (3, 3). the magnitude of the vector would be squareroot of sum of the squares of the vectors.\n"
      ],
      "metadata": {
        "id": "gS7KmY92KXRP"
      }
    },
    {
      "cell_type": "markdown",
      "source": [
        "![image.png](data:image/png;base64,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)"
      ],
      "metadata": {
        "id": "v6wtY1dk53PQ"
      }
    },
    {
      "cell_type": "code",
      "source": [
        "import numpy as np\n",
        "vector=np.array([3,3])\n",
        "#Magnitude of vector can be found using function np.linalg.norm() function\n",
        "print(\"\\nMagnitude of the vector = \",np.linalg.norm(vector))\n"
      ],
      "metadata": {
        "colab": {
          "base_uri": "https://localhost:8080/"
        },
        "id": "c50VIqCcKfrj",
        "outputId": "b91fd09a-71a1-426f-f901-8b2ca22de874"
      },
      "execution_count": 20,
      "outputs": [
        {
          "output_type": "stream",
          "name": "stdout",
          "text": [
            "\n",
            "Magnitude of the vector =  4.242640687119285\n"
          ]
        }
      ]
    },
    {
      "cell_type": "markdown",
      "source": [
        "# **Matrix**\n",
        "\n",
        "A matrix is defined as a rectangular array of numbers. It consists of rows and columns.\n",
        "\n",
        "The number of rows (m) and columns (n) is defined as the dimension or order of the matrix and is represented as (m, n). A matrix is called a square matrix if the number of rows(m) is equal to the number of columns(n).\n"
      ],
      "metadata": {
        "id": "RJ4NYNOeOngL"
      }
    },
    {
      "cell_type": "code",
      "source": [
        "import numpy as np\n",
        "# Creating matrices of various dimension using np.array() function\n",
        "matrix_2x2 = np.array([[1, 2],\n",
        "                       [3, 4]])\n",
        "matrix_3x3 = np.array([[1, 2, 3],\n",
        "                       [4, 5, 6],\n",
        "                       [8, 9, 10]])\n",
        "\n",
        "print(\"2x2 Matrix\\n\",matrix_2x2,\"\\nshape of matrix -> \",matrix_2x2.shape)\n",
        "print(\"\\n3x3 Matrix\\n\",matrix_3x3,\"\\nshape of matrix -> \",matrix_3x3.shape)\n"
      ],
      "metadata": {
        "colab": {
          "base_uri": "https://localhost:8080/"
        },
        "id": "UAhKtHGMOvxL",
        "outputId": "35ba6c74-26b2-4a32-8db0-e082482b5cfa"
      },
      "execution_count": 21,
      "outputs": [
        {
          "output_type": "stream",
          "name": "stdout",
          "text": [
            "2x2 Matrix\n",
            " [[1 2]\n",
            " [3 4]] \n",
            "shape of matrix ->  (2, 2)\n",
            "\n",
            "3x3 Matrix\n",
            " [[ 1  2  3]\n",
            " [ 4  5  6]\n",
            " [ 8  9 10]] \n",
            "shape of matrix ->  (3, 3)\n"
          ]
        }
      ]
    },
    {
      "cell_type": "markdown",
      "source": [
        "**Transpose of a matrix**\n",
        "\n",
        "Transpose of a matrix is obtained by interchanging its rows and columns."
      ],
      "metadata": {
        "id": "BX4D5m85O2oM"
      }
    },
    {
      "cell_type": "code",
      "source": [
        "import numpy as np\n",
        "A = np.array([[2,-2],[3,1],[1,4]])\n",
        "print(\"Matrix A:\\n\",A)\n",
        "print(\"Shape of Matrix: \", A.shape)\n",
        "\n",
        "# Finding transpose of a matrix using the function transpose()\n",
        "print(\"Matrix A Transpose: \\n\",np.transpose(A))\n"
      ],
      "metadata": {
        "colab": {
          "base_uri": "https://localhost:8080/"
        },
        "id": "fm77ApzEO-EN",
        "outputId": "ca13fc22-8b10-4a53-b601-32116fe83cb8"
      },
      "execution_count": 22,
      "outputs": [
        {
          "output_type": "stream",
          "name": "stdout",
          "text": [
            "Matrix A:\n",
            " [[ 2 -2]\n",
            " [ 3  1]\n",
            " [ 1  4]]\n",
            "Shape of Matrix:  (3, 2)\n",
            "Matrix A Transpose: \n",
            " [[ 2  3  1]\n",
            " [-2  1  4]]\n"
          ]
        }
      ]
    },
    {
      "cell_type": "markdown",
      "source": [
        "**Diagonal, Identity, Symmtrical and Triangular Matrices**"
      ],
      "metadata": {
        "id": "fkAMuS9r3eDi"
      }
    },
    {
      "cell_type": "code",
      "execution_count": 23,
      "metadata": {
        "colab": {
          "base_uri": "https://localhost:8080/"
        },
        "id": "VY2NK227dcyT",
        "outputId": "29f15c0d-4022-49ef-981f-c60e44729ede"
      },
      "outputs": [
        {
          "output_type": "stream",
          "name": "stdout",
          "text": [
            "[[1 0 0]\n",
            " [0 3 0]\n",
            " [0 0 2]]\n",
            "---------------------------------------\n",
            "[[1 0 0]\n",
            " [0 3 0]\n",
            " [0 0 5]]\n"
          ]
        }
      ],
      "source": [
        "# Creating a diagonal matrix with diagonal elements as (1,3,2)\n",
        "import numpy as np\n",
        "diagonal_matrix = np.diag((1,3,2))\n",
        "print(diagonal_matrix)\n",
        "print(\"---------------------------------------\")\n",
        "# Creating a diagonal matrix with diagonal elements as (1,3,5)\n",
        "matrix_range= np.diag(np.arange(1,6,2))\n",
        "print(matrix_range)"
      ]
    },
    {
      "cell_type": "code",
      "source": [
        "#Identity Matrix\n",
        "import numpy as np\n",
        "identity_matrix_1 = np.identity(2)\n",
        "print(\"Identity_matrix 1\\n\",identity_matrix_1)\n",
        "\n",
        "#Creating an Identity matrix of size 3 using np.eye() fucntion\n",
        "identity_matrix_2 = np.eye(3)\n",
        "print(\"\\nIdentity_matrix 2\\n\",identity_matrix_2)\n"
      ],
      "metadata": {
        "colab": {
          "base_uri": "https://localhost:8080/"
        },
        "id": "rExE2FvedlQN",
        "outputId": "2904ddeb-a034-4a32-8268-bf5d48aacdc3"
      },
      "execution_count": 24,
      "outputs": [
        {
          "output_type": "stream",
          "name": "stdout",
          "text": [
            "Identity_matrix 1\n",
            " [[1. 0.]\n",
            " [0. 1.]]\n",
            "\n",
            "Identity_matrix 2\n",
            " [[1. 0. 0.]\n",
            " [0. 1. 0.]\n",
            " [0. 0. 1.]]\n"
          ]
        }
      ]
    },
    {
      "cell_type": "markdown",
      "source": [
        "A square matrix A of dimension (n, n) is symmetric, if A = AT i.e.  the matrix A is the same as its transpose."
      ],
      "metadata": {
        "id": "DhbmjPKdweVc"
      }
    },
    {
      "cell_type": "code",
      "source": [
        "#Symmetric Matrix\n",
        "import numpy as np\n",
        "A = np.array([[2,3,1],\n",
        "              [3,4,-1],\n",
        "              [1,-1,1]])\n",
        "print(\"A:\\n\" , A)\n",
        "# Finding the Transpose of the matrix\n",
        "transposed_matrix = A.transpose()\n",
        "print(\"Transpose of A:\\n\" , transposed_matrix)\n",
        "\n",
        "#Comparing each element of both matrices (returns a matrix of boolean compared values)\n",
        "#and saving it in a variable comparison\n",
        "comparison = (A == transposed_matrix)\n",
        "print(\"Compared : \\n\", comparison)\n",
        "#Checking if all the elements in the matrix comparision is true\n",
        "equal_arrays = comparison.all()\n",
        "print(equal_arrays)\n"
      ],
      "metadata": {
        "colab": {
          "base_uri": "https://localhost:8080/"
        },
        "id": "0FzU0s9-wPg8",
        "outputId": "40523a84-f177-45a4-f007-41d0d1db838b"
      },
      "execution_count": 25,
      "outputs": [
        {
          "output_type": "stream",
          "name": "stdout",
          "text": [
            "A:\n",
            " [[ 2  3  1]\n",
            " [ 3  4 -1]\n",
            " [ 1 -1  1]]\n",
            "Transpose of A:\n",
            " [[ 2  3  1]\n",
            " [ 3  4 -1]\n",
            " [ 1 -1  1]]\n",
            "Compared : \n",
            " [[ True  True  True]\n",
            " [ True  True  True]\n",
            " [ True  True  True]]\n",
            "True\n"
          ]
        }
      ]
    },
    {
      "cell_type": "markdown",
      "source": [
        "**Triangular Matrix**\n",
        "\n",
        "A triangular matrix can be either a **lower** triangular or an **upper** triangular matrix.\n",
        "\n",
        "A lower triangular matrix is a square matrix in which all the elements above the main diagonal are zero.\n",
        "An upper triangular matrix is a square matrix in which all the elements below the main diagonal are zero.\n",
        "\n",
        "In NumPy, the functions **np.tril()** and **np.triu()** are used to create a lower triangular matrix and an upper triangular matrix, respectively."
      ],
      "metadata": {
        "id": "DLuzJMOtw_QE"
      }
    },
    {
      "cell_type": "code",
      "source": [
        "#Creating a lower triangular matrix\n",
        "import numpy as np\n",
        "lower_triangular_matrix_1 = np.tril([[1,2,3],\n",
        "                                     [4,5,6],\n",
        "                                     [7,8,9]])\n",
        "print(\"Lower triangular matrix\\n\",lower_triangular_matrix_1)\n"
      ],
      "metadata": {
        "colab": {
          "base_uri": "https://localhost:8080/"
        },
        "id": "UZ1hhZqixR0L",
        "outputId": "645e4ddf-b409-4db6-a95f-d4e473f44662"
      },
      "execution_count": 26,
      "outputs": [
        {
          "output_type": "stream",
          "name": "stdout",
          "text": [
            "Lower triangular matrix\n",
            " [[1 0 0]\n",
            " [4 5 0]\n",
            " [7 8 9]]\n"
          ]
        }
      ]
    },
    {
      "cell_type": "code",
      "source": [
        "#Creating a Upper triangular matrix\n",
        "import numpy as np\n",
        "upper_triangular_matrix_1 = np.triu([[1,2,3],\n",
        "                               [4,5,6],\n",
        "                               [7,8,9]])\n",
        "print(\"Upper triangular matrix\\n\",upper_triangular_matrix_1)\n"
      ],
      "metadata": {
        "colab": {
          "base_uri": "https://localhost:8080/"
        },
        "id": "8S9xT6E5xXVn",
        "outputId": "47657cbe-7a92-4ed4-b43f-5498f8b558ca"
      },
      "execution_count": 27,
      "outputs": [
        {
          "output_type": "stream",
          "name": "stdout",
          "text": [
            "Upper triangular matrix\n",
            " [[1 2 3]\n",
            " [0 5 6]\n",
            " [0 0 9]]\n"
          ]
        }
      ]
    },
    {
      "cell_type": "markdown",
      "source": [
        "# **Excercise 1.1**\n",
        "\n",
        "Create a square matrix A of order 3. Solve the following:\n",
        "\n",
        "1. Convert A to an upper triangular matrix B\n",
        "2. Convert B to a lower triangular matrix C\n",
        "3. Find the transpose of matrix C\n",
        "4. Check whether matrix C is a diagonal matrix\n",
        "5. Check whether matrix C is symmetric"
      ],
      "metadata": {
        "id": "WgrlSK0OyBSw"
      }
    },
    {
      "cell_type": "code",
      "source": [
        "import numpy as np\n",
        "a = np.array([[1,2,3],\n",
        "              [4,5,6],\n",
        "              [7,8,9]])\n",
        "\n",
        "print(\"Matrix A: \\n\", a)\n",
        "print(\"Shape of matrix a: \", a.shape)\n",
        "print(\"------------------------\")\n",
        "\n",
        "#Convert A to an upper triangular matrix B\n",
        "b = np.triu(a)\n",
        "print(\"Upper Triangular Matrix of A: \\n \", b)\n",
        "print(\"------------------------\")\n",
        "\n",
        "#Convert Convert B to a lower triangular matrix C\n",
        "c = np.tril(b)\n",
        "print(\"Lower Triangular Matrix of B: \\n\", c)\n",
        "print(\"------------------------\")\n",
        "\n",
        "print(\"Matrix c: \\n\", c)\n",
        "print(\"------------------------\")\n",
        "\n",
        "print(\"Transpose Matrix of c: \\n\",np.transpose(c))\n",
        "print(\"------------------------\")\n",
        "\n",
        "d = np.array([[0, 1, 1],\n",
        "              [1, 0, 1],\n",
        "              [1, 1, 0]])\n",
        "print(d)\n",
        "e = c*d\n",
        "print(e)\n",
        "print(\"Is matrix C is a diagonal matrix?\", e.sum() == 0)\n",
        "print(\"Is Symmetric?\", (c == np.transpose(c)).all())"
      ],
      "metadata": {
        "colab": {
          "base_uri": "https://localhost:8080/"
        },
        "id": "j4DVntjyyBFI",
        "outputId": "a0abe0cb-5b7b-4fde-c8e9-44e0a890dac5"
      },
      "execution_count": 28,
      "outputs": [
        {
          "output_type": "stream",
          "name": "stdout",
          "text": [
            "Matrix A: \n",
            " [[1 2 3]\n",
            " [4 5 6]\n",
            " [7 8 9]]\n",
            "Shape of matrix a:  (3, 3)\n",
            "------------------------\n",
            "Upper Triangular Matrix of A: \n",
            "  [[1 2 3]\n",
            " [0 5 6]\n",
            " [0 0 9]]\n",
            "------------------------\n",
            "Lower Triangular Matrix of B: \n",
            " [[1 0 0]\n",
            " [0 5 0]\n",
            " [0 0 9]]\n",
            "------------------------\n",
            "Matrix c: \n",
            " [[1 0 0]\n",
            " [0 5 0]\n",
            " [0 0 9]]\n",
            "------------------------\n",
            "Transpose Matrix of c: \n",
            " [[1 0 0]\n",
            " [0 5 0]\n",
            " [0 0 9]]\n",
            "------------------------\n",
            "[[0 1 1]\n",
            " [1 0 1]\n",
            " [1 1 0]]\n",
            "[[0 0 0]\n",
            " [0 0 0]\n",
            " [0 0 0]]\n",
            "Is matrix C is a diagonal matrix? True\n",
            "Is Symmetric? True\n"
          ]
        }
      ]
    },
    {
      "cell_type": "markdown",
      "source": [
        "# **Operations over Vectors and Metrices**\n",
        "\n",
        "Numerical operations can be performed on scalers, vectors and matrices. Some commonly used operations are as follows:\n",
        "\n",
        "* Vector Addition\n",
        "* Matrix addition\n",
        "* Scalar-Vector multiplication\n",
        "* Scalar-Matrix multiplication\n",
        "* Inner Product\n",
        "* Matrix-Matrix multiplication"
      ],
      "metadata": {
        "id": "6IFzIX6vigGq"
      }
    },
    {
      "cell_type": "markdown",
      "source": [
        "**Vector Addition**"
      ],
      "metadata": {
        "id": "U8QwpYvVRa9j"
      }
    },
    {
      "cell_type": "code",
      "source": [
        "#vector addition of same dimension\n",
        "import numpy as np\n",
        "v_1 = np.array([[2, -1, 1]])\n",
        "v_2 = np.array([[1, 2, -1]])\n",
        "print(v_1.shape)\n",
        "\n",
        "print (\"1st  Vector :  \", v_1)\n",
        "print (\"2nd  Vector :  \", v_2)\n",
        "\n",
        "# Addition of the vectors using the function np.add()\n",
        "out = np.add(v_1, v_2)\n",
        "print (\"Added Vector : \", out)\n",
        "\n",
        "print(\"Vector Addition v1 + v2 : \", v_1 + v_2)\n"
      ],
      "metadata": {
        "colab": {
          "base_uri": "https://localhost:8080/"
        },
        "id": "EeMQ_Z19ystQ",
        "outputId": "7e5f7856-9467-478a-abf4-4e862aabb420"
      },
      "execution_count": 29,
      "outputs": [
        {
          "output_type": "stream",
          "name": "stdout",
          "text": [
            "(1, 3)\n",
            "1st  Vector :   [[ 2 -1  1]]\n",
            "2nd  Vector :   [[ 1  2 -1]]\n",
            "Added Vector :  [[3 1 0]]\n",
            "Vector Addition v1 + v2 :  [[3 1 0]]\n"
          ]
        }
      ]
    },
    {
      "cell_type": "markdown",
      "source": [
        "**Matrix addition**"
      ],
      "metadata": {
        "id": "NQXx94sYRdOT"
      }
    },
    {
      "cell_type": "code",
      "source": [
        "#Matrix Addition of same dimension\n",
        "import numpy as np\n",
        "m_1 = np.array([[10,20,30],\n",
        "                 [-30,-40,-50]])\n",
        "m_2 = np.array([[100,-200,300],\n",
        "                 [30,50,70]])\n",
        "print(\"Shape of Matrix: \", m_1.shape)\n",
        "\n",
        "print (\"1st  Matrix : \\n\", m_1)\n",
        "print (\"2nd  Matrix : \\n\", m_2)\n",
        "\n",
        "# Addition of the matrices using np.add() function\n",
        "out = np.add(m_1, m_2)\n",
        "print (\"Added Matrix : \\n\", out)\n",
        "\n",
        "print(\"Matrix Addition using m1+m2 : \\n\",m_1 + m_2)\n"
      ],
      "metadata": {
        "colab": {
          "base_uri": "https://localhost:8080/"
        },
        "id": "Mzjy9x1Q7bgW",
        "outputId": "8be3acd2-8293-429d-f16b-30e2ce99bf8e"
      },
      "execution_count": 30,
      "outputs": [
        {
          "output_type": "stream",
          "name": "stdout",
          "text": [
            "Shape of Matrix:  (2, 3)\n",
            "1st  Matrix : \n",
            " [[ 10  20  30]\n",
            " [-30 -40 -50]]\n",
            "2nd  Matrix : \n",
            " [[ 100 -200  300]\n",
            " [  30   50   70]]\n",
            "Added Matrix : \n",
            " [[ 110 -180  330]\n",
            " [   0   10   20]]\n",
            "Matrix Addition using m1+m2 : \n",
            " [[ 110 -180  330]\n",
            " [   0   10   20]]\n"
          ]
        }
      ]
    },
    {
      "cell_type": "markdown",
      "source": [
        "**Scalar-Vector multiplication**"
      ],
      "metadata": {
        "id": "06aG38ZqRgVm"
      }
    },
    {
      "cell_type": "code",
      "source": [
        "#Multiplication of Vector by a Scalar\n",
        "import numpy as np\n",
        "v = np.array([[2],[-1],[3]])\n",
        "s = 2.5\n",
        "print(\"Shape of Vector v: \", v.shape)\n",
        "#Scalar Vector Multiplication\n",
        "vector_mul = v*s\n",
        "print(\"Vector: \\n\",v,\"\\nScalar:\",s,\"\\nScalar Vector multiplication:\\n\",vector_mul)\n",
        "\n",
        "v_2 = np.array([[5, 10, 15]])\n",
        "print(\"Shape of Vector v_2: \", v_2.shape)\n",
        "v_2_mul = v_2*s\n",
        "print(\"Vector: \\n\",v_2,\"\\nScalar:\",s,\"\\nScalar Vector multiplication:\\n\",v_2_mul)"
      ],
      "metadata": {
        "colab": {
          "base_uri": "https://localhost:8080/"
        },
        "id": "pNdb5h9g75bd",
        "outputId": "f16e3c82-864c-44ac-89e6-48278f841b5f"
      },
      "execution_count": 31,
      "outputs": [
        {
          "output_type": "stream",
          "name": "stdout",
          "text": [
            "Shape of Vector v:  (3, 1)\n",
            "Vector: \n",
            " [[ 2]\n",
            " [-1]\n",
            " [ 3]] \n",
            "Scalar: 2.5 \n",
            "Scalar Vector multiplication:\n",
            " [[ 5. ]\n",
            " [-2.5]\n",
            " [ 7.5]]\n",
            "Shape of Vector v_2:  (1, 3)\n",
            "Vector: \n",
            " [[ 5 10 15]] \n",
            "Scalar: 2.5 \n",
            "Scalar Vector multiplication:\n",
            " [[12.5 25.  37.5]]\n"
          ]
        }
      ]
    },
    {
      "cell_type": "markdown",
      "source": [
        "**Scalar-Matrix multiplication**"
      ],
      "metadata": {
        "id": "8hTb-JIWRjbS"
      }
    },
    {
      "cell_type": "code",
      "source": [
        "#Multiplication of Matrix by a Scalar\n",
        "import numpy as np\n",
        "A = np.array([[1,2,1],\n",
        "              [-1,1,0],\n",
        "              [2,-1,1]])\n",
        "print(\"Shape of Matrix: \",A.shape)\n",
        "print(\"Matrix: \\n\",A)\n",
        "s = 2.5\n",
        "print(\"Scalar: \", s)\n",
        "\n",
        "#Multiplication of Matrix by a Scalar\n",
        "matrix_mul =  s * A\n",
        "print(\"Multiplication of Matrix by a Scalar:\\n\",matrix_mul)\n"
      ],
      "metadata": {
        "colab": {
          "base_uri": "https://localhost:8080/"
        },
        "id": "KV2lrBDc8wzN",
        "outputId": "b4be8b7e-604e-462b-e4b8-db33fab3640a"
      },
      "execution_count": 32,
      "outputs": [
        {
          "output_type": "stream",
          "name": "stdout",
          "text": [
            "Shape of Matrix:  (3, 3)\n",
            "Matrix: \n",
            " [[ 1  2  1]\n",
            " [-1  1  0]\n",
            " [ 2 -1  1]]\n",
            "Scalar:  2.5\n",
            "Multiplication of Matrix by a Scalar:\n",
            " [[ 2.5  5.   2.5]\n",
            " [-2.5  2.5  0. ]\n",
            " [ 5.  -2.5  2.5]]\n"
          ]
        }
      ]
    },
    {
      "cell_type": "markdown",
      "source": [
        "**Inner Product**\n",
        "\n",
        "The inner product is a way to multiply two vectors of same dimension and the result of this multiplication is a scalar. This is also known as the **dot product**. Inner product is **commutative** in nature v1*v2 = v2*v1.\n",
        "\n",
        "The inner product of two column vectors v1 and v2 is calculated as transpose vector of v1 multiplied by v2.\n",
        "\n",
        "The inner product of two row vectors v1 and v2 is calculated as v1 multiplied by transpose vector of v2."
      ],
      "metadata": {
        "id": "AaDbVJh5_7CT"
      }
    },
    {
      "cell_type": "code",
      "source": [
        "v_1 = np.array([1,2,3])\n",
        "v_2 = np.array([1,0,3])\n",
        "\n",
        "print(\"Vector 1: \",v_1)\n",
        "print(\"Vector 2: \",v_2)\n",
        "\n",
        "# Finding inner product of vector of same dimensions using inner() function of the NumPy library.\n",
        "inner_product_1 = np.inner(v_1,v_2)\n",
        "print(\"Inner Product of Vector 1, Vector 2: \",inner_product_1)"
      ],
      "metadata": {
        "colab": {
          "base_uri": "https://localhost:8080/"
        },
        "id": "e0hjDRlOAVN_",
        "outputId": "47def33c-5ec9-427b-ca60-4fb532c7aa73"
      },
      "execution_count": 33,
      "outputs": [
        {
          "output_type": "stream",
          "name": "stdout",
          "text": [
            "Vector 1:  [1 2 3]\n",
            "Vector 2:  [1 0 3]\n",
            "Inner Product of Vector 1, Vector 2:  10\n"
          ]
        }
      ]
    },
    {
      "cell_type": "code",
      "source": [
        "v_1 = np.array([4,5,6])\n",
        "v_2 = np.array([-1,4,8])\n",
        "\n",
        "print(\"Vector 1: \",v_1)\n",
        "print(\"Vector 2: \",v_2)\n",
        "\n",
        "# Finding inner product of vector of same dimensions using inner() function of the NumPy library.\n",
        "inner_product_1 = np.inner(v_1,v_2)\n",
        "print(\"Inner Product of Vector 1, Vector 2: \",inner_product_1)\n",
        "\n",
        "vector_product = np.dot(np.transpose(v_1),v_2)\n",
        "print(\"vector_product : \", vector_product)\n"
      ],
      "metadata": {
        "colab": {
          "base_uri": "https://localhost:8080/"
        },
        "id": "52YNbbQvGho1",
        "outputId": "5f805fe7-8b94-4841-e634-e6796f5d00a1"
      },
      "execution_count": 34,
      "outputs": [
        {
          "output_type": "stream",
          "name": "stdout",
          "text": [
            "Vector 1:  [4 5 6]\n",
            "Vector 2:  [-1  4  8]\n",
            "Inner Product of Vector 1, Vector 2:  64\n",
            "vector_product :  64\n"
          ]
        }
      ]
    },
    {
      "cell_type": "markdown",
      "source": [
        "**Orthogonal vectors**\n",
        "\n",
        "If the inner product of two non-zero vectors v1 and v2 is zero, that is\n",
        "\n",
        "v1*v2 == 0\n",
        "\n",
        "then, the vectors v1 and v2 are called orthogonal vectors."
      ],
      "metadata": {
        "id": "6YufJF7qA-g-"
      }
    },
    {
      "cell_type": "code",
      "source": [
        "import numpy as np\n",
        "V_1 = np.array([[3],[-1],[2]])\n",
        "V_2 = np.array([[2],[4],[-1]])\n",
        "\n",
        "print(\"Shape of vector: \\n\", V_1.shape)\n",
        "\n",
        "print(\"Vector 1\\n\",V_1)\n",
        "print(\"Vector 2\\n\",V_2)\n",
        "\n",
        "print(\"Inner product of vectors: \\n\", np.inner(V_1,V_2))\n",
        "\n",
        "#Finding the transpose of Vector_1\n",
        "trans_v1 = np.transpose(V_1)\n",
        "\n",
        "#Finding the dot product\n",
        "result = np.dot(trans_v1,V_2)\n",
        "print(\"Dot Product\\n\",result)\n"
      ],
      "metadata": {
        "colab": {
          "base_uri": "https://localhost:8080/"
        },
        "id": "82UI0_xWBRoe",
        "outputId": "abc7c874-0f24-457e-fbc4-30c13995f36e"
      },
      "execution_count": 35,
      "outputs": [
        {
          "output_type": "stream",
          "name": "stdout",
          "text": [
            "Shape of vector: \n",
            " (3, 1)\n",
            "Vector 1\n",
            " [[ 3]\n",
            " [-1]\n",
            " [ 2]]\n",
            "Vector 2\n",
            " [[ 2]\n",
            " [ 4]\n",
            " [-1]]\n",
            "Inner product of vectors: \n",
            " [[ 6 12 -3]\n",
            " [-2 -4  1]\n",
            " [ 4  8 -2]]\n",
            "Dot Product\n",
            " [[0]]\n"
          ]
        }
      ]
    },
    {
      "cell_type": "markdown",
      "source": [
        "**Angle between vectors**\n",
        "\n",
        "If v1 and v2 are non-zero vectors of dimension n then the cosine of the angle between is angle between them.\n",
        "\n",
        "In mathematical terms it is cosine of dot product of both vectors divided by multiplication of magnitudes of both vectors."
      ],
      "metadata": {
        "id": "xgjHN8HZSp8K"
      }
    },
    {
      "cell_type": "code",
      "source": [
        "import numpy as np\n",
        "\n",
        "#Function to find angle between two vectors\n",
        "def angle_between(vector_1, vector_2):\n",
        "    dot_pr = vector_1.dot(vector_2) #dot product of vectors\n",
        "    norms = np.linalg.norm(vector_1) * np.linalg.norm(vector_2) #multiplication of magnitudes of both vectors\n",
        "\n",
        "    return np.rad2deg(np.arccos(dot_pr / norms))\n",
        "\n",
        "v_1 = np.array([3,-1,2])\n",
        "v_2 = np.array([2,4,-1])\n",
        "\n",
        "print(\"v1 = \",v_1,\"\\nv2 = \", v_2)\n",
        "\n",
        "#angle between them by using the function angle_between()\n",
        "print(\"Angle Between the vectors v1 and v2 in 'degree' is :\",angle_between(v_1, v_2))\n"
      ],
      "metadata": {
        "colab": {
          "base_uri": "https://localhost:8080/"
        },
        "id": "LyRsrQFtTHc2",
        "outputId": "c60d78a2-4317-4b1d-bd72-0e6a31d24a64"
      },
      "execution_count": 36,
      "outputs": [
        {
          "output_type": "stream",
          "name": "stdout",
          "text": [
            "v1 =  [ 3 -1  2] \n",
            "v2 =  [ 2  4 -1]\n",
            "Angle Between the vectors v1 and v2 in 'degree' is : 90.0\n"
          ]
        }
      ]
    },
    {
      "cell_type": "markdown",
      "source": [
        "**Cauchy - Schwarz**\n",
        "\n",
        " Or Cauchy's Inequality is a fundamental inequality in mathematics that relates to the dot product or inner product of two vectors. This can be used to check the linear dependence of two vectors.\n",
        "\n",
        " The Cauchy-Schwarz inequality states that for any two vectors u\n",
        " and v in an inner product space, the absolute value of their inner product is less than or equal to the product of their norms:\n",
        "\n",
        "                    **|⟨u,v⟩| ≤ ∥u∥ ∥v∥**\n",
        "\n",
        " where ⟨u,v⟩ is the inner product of u  and v\n",
        " ∥u∥ and ∥v∥ are their respective norms.\n",
        "\n",
        " This inequality is also sometimes written in terms of the angle between u and v:\n",
        "\n",
        "                   **|⟨u,v⟩|≤∥u∥∥v∥cos(θ)**\n",
        "\n",
        "where θ is the angle between u and v.\n",
        "\n",
        "\n",
        " The Cauchy-Schwarz Inequality has many important applications in various branches of mathematics, including linear algebra, calculus, and probability theory.\n",
        "\n",
        "Equality in Cauchy - Schwarz inequality results in 0 degree angle between the vectors v1 and v2. This implies, one vector lies on the other vector and the direction of both the vectors is same.\n",
        "\n",
        "If Cauchy-Schwarz inequality becomes equal, then one vector can be written as a scalar multiple of the other vector."
      ],
      "metadata": {
        "id": "D08j5QQkUysX"
      }
    },
    {
      "cell_type": "code",
      "source": [
        "import numpy as np\n",
        "vec_1 = np.array([[1],[1]])\n",
        "vec_2 = np.array([[2],[2]])\n",
        "\n",
        "ip_v1_v2 = np.dot(np.transpose(vec_1), vec_2)\n",
        "print(ip_v1_v2)\n",
        "\n",
        "norms = np.linalg.norm(vec_1) * np.linalg.norm(vec_2)\n",
        "print(np.round(norms))\n"
      ],
      "metadata": {
        "colab": {
          "base_uri": "https://localhost:8080/"
        },
        "id": "pkCm9cJkWTF8",
        "outputId": "ee7e6efe-3601-4851-da72-88a37ce1d4e2"
      },
      "execution_count": 37,
      "outputs": [
        {
          "output_type": "stream",
          "name": "stdout",
          "text": [
            "[[4]]\n",
            "4.0\n"
          ]
        }
      ]
    },
    {
      "cell_type": "markdown",
      "source": [
        "v1 = 1/2 * v2."
      ],
      "metadata": {
        "id": "q415qQ6iZxfc"
      }
    },
    {
      "cell_type": "markdown",
      "source": [
        "**Matrix - Vector Multiplication**\n",
        "\n",
        "If a matrix A of dimension (m, n) and a column vector v of dimension n then the product of A and v is represented as A.v, which is a column vector of dimension m."
      ],
      "metadata": {
        "id": "PJ4CXLyNaiY8"
      }
    },
    {
      "cell_type": "code",
      "source": [
        "import numpy as np\n",
        "\n",
        "#A matrix\n",
        "A =  np.array([[1, 2, 3], [4, 5, 6], [7, 8, 9]])\n",
        "print(\"A :\\n\", A)\n",
        "print(\"Shape of matrix : \", A.shape)\n",
        "#Define a column vector\n",
        "v = np.array([[1], [2], [3]])\n",
        "print(\"v :\\n\", v)\n",
        "\n",
        "# Find product of the matrix and Vector\n",
        "product = np.matmul(A,v)\n",
        "print(\"Product of A and v is: \\n\", product)\n",
        "print(\"Shape of Product Matrix : \", product.shape)\n",
        "print(\"A*v: \\n \", A*v)"
      ],
      "metadata": {
        "colab": {
          "base_uri": "https://localhost:8080/"
        },
        "id": "bQvrlWykcP5-",
        "outputId": "b76e4f1c-a164-4247-e19d-4eb740db6956"
      },
      "execution_count": 38,
      "outputs": [
        {
          "output_type": "stream",
          "name": "stdout",
          "text": [
            "A :\n",
            " [[1 2 3]\n",
            " [4 5 6]\n",
            " [7 8 9]]\n",
            "Shape of matrix :  (3, 3)\n",
            "v :\n",
            " [[1]\n",
            " [2]\n",
            " [3]]\n",
            "Product of A and v is: \n",
            " [[14]\n",
            " [32]\n",
            " [50]]\n",
            "Shape of Product Matrix :  (3, 1)\n",
            "A*v: \n",
            "  [[ 1  2  3]\n",
            " [ 8 10 12]\n",
            " [21 24 27]]\n"
          ]
        }
      ]
    },
    {
      "cell_type": "markdown",
      "source": [
        "**Matrix Multiplication**\n",
        "\n",
        "Consider a matrix A of dimension (m, n) and a matrix B of dimension (p, q). A.B is possible, only if n = p and the resultant matrix is of dimension (m, q)."
      ],
      "metadata": {
        "id": "KCE7vlQXdQ5x"
      }
    },
    {
      "cell_type": "code",
      "source": [
        "import numpy as np\n",
        "\n",
        "A = np.array([[1, 4, 7],\n",
        "            [2, 5, 8],\n",
        "            [3, 6, 9]])\n",
        "B = np.array([[4, 2, 3],\n",
        "            [2, 0, 7],\n",
        "            [1, 3, 0]])\n",
        "print(\"A :\\n\", A)\n",
        "print(\"B :\\n\", B)\n",
        "print(\"Shape of Matrices A n B : \", A.shape, B.shape)\n",
        "# Multiplying A and B\n",
        "result=np.matmul(A,B)\n",
        "print(\"Matrix Multiplication: A.B :\\n\",result)\n",
        "print(\"Shape of Product Matrix : \", result.shape)\n",
        "print(\"Matrix Multiplication: A*B :\\n\",A*B)"
      ],
      "metadata": {
        "colab": {
          "base_uri": "https://localhost:8080/"
        },
        "id": "Vni-2MO5da8V",
        "outputId": "370ed965-a256-4de9-eb2c-d855b6e5ee75"
      },
      "execution_count": 39,
      "outputs": [
        {
          "output_type": "stream",
          "name": "stdout",
          "text": [
            "A :\n",
            " [[1 4 7]\n",
            " [2 5 8]\n",
            " [3 6 9]]\n",
            "B :\n",
            " [[4 2 3]\n",
            " [2 0 7]\n",
            " [1 3 0]]\n",
            "Shape of Matrices A n B :  (3, 3) (3, 3)\n",
            "Matrix Multiplication: A.B :\n",
            " [[19 23 31]\n",
            " [26 28 41]\n",
            " [33 33 51]]\n",
            "Shape of Product Matrix :  (3, 3)\n",
            "Matrix Multiplication: A*B :\n",
            " [[ 4  8 21]\n",
            " [ 4  0 56]\n",
            " [ 3 18  0]]\n"
          ]
        }
      ]
    },
    {
      "cell_type": "markdown",
      "source": [
        "4+8+7=19,  2+0+21=23,  3+28+0=31\n",
        "\n",
        "8+10+8=26,  4+0+24=28,  6+35+0=41\n",
        "\n",
        "12+12+9=33,  6+0+27=33,  9+42+0=51\n"
      ],
      "metadata": {
        "id": "0DKxg6W0eT6N"
      }
    },
    {
      "cell_type": "markdown",
      "source": [
        "The important properties of matrix multiplication are:\n",
        "\n",
        "It is not always commutative i.e. A.B may not be equal to B.A\n",
        "\n",
        "It is associative i.e. A.(B.C) = (A.B).C\n",
        "\n",
        "It is distributive over addition i.e, A.(B+C) = A.B+B.C"
      ],
      "metadata": {
        "id": "rLqRYR57gJuf"
      }
    },
    {
      "cell_type": "markdown",
      "source": [
        "**Application of Matrix Multiplication**\n",
        "\n",
        "Consider a social networking site where five people are linked with each other .\n"
      ],
      "metadata": {
        "id": "3xrS4P1slWz6"
      }
    },
    {
      "cell_type": "markdown",
      "source": [
        "\n",
        "![image.png](data:image/png;base64,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)"
      ],
      "metadata": {
        "id": "2SqmDWWNg0Md"
      }
    },
    {
      "cell_type": "markdown",
      "source": [
        "From the graph, you can see that there is a direct link from V1 to V2 (V1 -> V2). Therefore, V1 and V2 are friends or V2 is at distance 1 from V1. The nodes V1 and V3 are not connected through a direct link. They are connected through V2 i.e. V1 -> V2 -> V3. So, V3 is a friend of a friend of V1 and distance of V3 from V1 is 2.\n",
        "\n",
        "This given network can be represented using an adjacency matrix as shown below:\n"
      ],
      "metadata": {
        "id": "jB99BfaAlRC8"
      }
    },
    {
      "cell_type": "markdown",
      "source": [
        "\n",
        "\n",
        "![image.png](data:image/png;base64,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)"
      ],
      "metadata": {
        "id": "oINbGBBnk3bU"
      }
    },
    {
      "cell_type": "markdown",
      "source": [
        "Adjacency matrix helps in representing adjacent vertices in a graph. It is a 0-1 matrix, where, 1 represents a pair of adjacent vertices and 0 represents a pair of non-adjacent vertices.\n",
        "\n",
        "**Problem**: From the graph, find number of paths of length 2 between every pair of vertices.\n",
        "\n",
        "**Solution**: Matrix multiplication can solve this problem by multiplying the matrix by itself.\n",
        "\n",
        "A*A\n"
      ],
      "metadata": {
        "id": "POLczaWwlOQ7"
      }
    },
    {
      "cell_type": "markdown",
      "source": [
        "![image.png](data:image/png;base64,iVBORw0KGgoAAAANSUhEUgAAAfYAAACNCAIAAADKG89dAAAgAElEQVR4Aex9eVgUx9Z3nvfe57vve+9Ncs0TE5NcTYwxLomJEaPGHXEBBRTcF2RRVEBAFAFZBUTZVUBEQEFQFBFwAdxQWcQVQRBUQBRB9pkBhplhxln6A46WbXdPzwJRND1/QHV1LadOVf3q9Kmqcz7CmB/DAYYDDAcYDnygHPjoA20X0yyGAwwHGA4wHMAYiGcGAcMBhgMMBz5YDjAQ/8F2LdMwhgMMBxgOMBDPjAGGAwwHGA58sBxgIP6D7VqmYQwHGA4wHGAgnhkDDAcYDjAc+GA5wED8B9u1TMMYDjAcYDjAQDwzBhgOMBx49xyo2DPxo48+mrinQklSIP1H3b91GUpmepkMl1fVrC9LyFjXVbHy1HZnw1X70UcfqVmzai3FMObQpMocYzIwHGA40Lsc6ALMiXsy9kxUGjQr9kx8ha/dwKkSXmase5W3q2KVskK7M9Z9NHHdOuWpfcmtLkrVqK2HvGak+B4ykMnOcIDhgLIceBNSuyDvFdhiGEZ4fFkmbZbuNNT5ul4pzCs/K03erkzrMmiyyssLGZXlVW+lYyC+tzjJlMNwgOGAIg7gQZcIksTnl2XRZelOgk9AqB//iqL4rte4NebNzHLyvsJpiuJe56fO25Xl1U9uta8L6aUQA/G9xEimGIYDDAcUc+A1+JEwkhTxsjSaLHJl/1eEyMnbFd39o9ObUOXtohHyyKMWaqbK+4qml0S/LZ0NA/E4xjNBhgMMB/5kDrwCv9dg+apCuaApP0u3SoRWIKbJqxBqSXnxNMulFppDyvuqlS//v3pPiP4THhmI/xOYyhTJcIDhgDwOAE7i0fJlSvmgKSdLF0zS4ntXwXLyKqyTKm9XhcSfPAJ6Uu9L4nrnHwPxvcNHphSGAwwHlONAN5RPfKXweJ2nO5760CQ5S1eMYnzvKpyUt2LPxFf6me5SXj28pgSFSHnRGzmbw6/fk+p9fY4H9oHlrQ24InolyEB8r7CRKYThAMMBZTnQDax4VTRROiajHzELMQfd2Udi3m7wfSWMk6t6oxWkvOht1xv6zMS8eJrpc6JKeiPAQHxvcJEpg+EAw4E3OSCTyRoaGt6MY57eAQcYiH8HTGeqZDjwV+DAtWvX/grN7ONtZCC+j3cQQx7DgfeSA0VFRaampu8l6R8W0QzEf1j9ybSG4cC75oBUKi0sLHR3d9+/f/+7poWpn7FRw4wBhgMMB3qVA1evXvXy8iosLOzVUv+Khclksp43m5Hie85DpgSGAwwHujggk8lyc3OfP39OZscL0k8qlaJkYrEY/x7FYxiGj4ewkhnxhbynYU9Pz5qamh4Sz0B8DxnIZGc4wHDgJQceP37s7+9PyQ4CUstkMrFY/PDhw5ycnNraWgzDpFKpSCSCZPgS1M6IL+Qthwk0v3jxQr1l6dKlS3v27Gltbe0J/QzE94R7TF6GAwwHXnKgvb09LCzs0qVLlBzBo55UKuXxeHFxca6urk5OTq6urp26ewB9eohXKSMlGW8nEt/YFy9eKL+eEciTSqWxsbGJiYmEeJUe/1oQL5VKJcxPFQ4orw1keEvJV7z4ptLMfO8SX7hw4fDhw21tbZSUI9QTi8UYhp0/f15TUzMiIiI/P3/FihUbN2589uwZUsvgS1A7I74QfDgnJ2ft2rU2NjaPHz/GxysMy2QyHx+fJUuWzJs3z9PTs76+Xl4WRDPI78qvZ+QCWSyWn58fOV75mL8WxEskEvQxiO8GJkzJAZFIJJFIlBxMDG8peQiIpiQP399kbDb7wIEDpaWl8pqAmINhmEAgsLOzMzc3Z7FYGIb5+fmNGTPm3LlzGIaBUh5fiNoZ8YWgcHt7+9q1aydNmvTHH3/cuHEDxSsTEAqFGzduPHDgwPbt28eNGxcVFSUSiSgzIppVXc8oS7t69arykha5hL8cxCPuywvg56RUKpWXDMWj9ChGXgAPl4T9JXIW1KnK0AAfg0gIIpemdgyeZvLowccoSSfKIpPJFFKlPG/xwrJC3qLEytCAeKuwWMrmoCaghvfxAFy7V/WC/ZUrV1JSUrhcrrzWAXOAGyUlJdOmTQsKCoLE+/btGz58+IkTJzAMk0gkL168wBeidkZ8IRCWyWSlpaUBAQGurq7a2tpqQPzdu3cxDOPxeCu6f42NjeRa8NNQ1fWMsjQul6vqBwe+HAbi35iYgGj19fXZ2dklJSVCoRDG3BuJcA8AxM+7f/QpMQwTCoXFxcXXrl1rampCAguusNdBmUzG5XKLiopKS0tBUnj9jhQCmvl8fmVlZUdHh3pIRCr1ZUQvQjxMbxaLde3atcLCQh6PR4+wwNuGhoZnz56Ju3/yiKTXdRJySaVSPp//4MGDe/fu8fl8/IQkpHzx4gXQLBQKnzx50t7eTt/F5OyoBPyU68PhLisqqjnY624Mj8c7ceIE6NPltQ6YA/y8dOnSwIED0cZsfHz8lClTkpOTFUK8ShnJlMhkspqamsbGxt27d2tpad28eZOcRpmYTmnG2dlZR0enooLa0yy+sSqtZ5S1S6XSpKQkJPNRpqGJ/EtDPB6/ZDIZPN6+fdvT03Pbtm329vYnTpzgcrny5FOZTMbj8S5cuLB27dqjR4+iAUqe6lKplM1m79+/383NbevWrd7e3o8ePZKH8hiG1dbWRkVFubu7b968ef/+/SwWSx4agv63qKjIxcWls3DALJhIqNfVACbUBDyLUIGUAQKXxGIxGpSIt/fv39+1axfwNiYmhsViEXKheqVSaUdHx7Vr1ywsLPbv3y+TyWhS0us6UZkgj7NYrCNHjnh4eGzZsiUoKAiOc+DToLBEIpHJZGVlZT4+PnZ2diCyERgijypUCKEvKFn39iO7sPy1gUWCRS3Co2LqcnNz6UV4tI4CNzIyMr744gtfX18o+uTJk9ra2ikpKWgG4asETqqREV8IPszn83ft2jVjxgy1If7GjRujRo2ytbWl33gAmnu4LAHlhw4dKi8vx7dC+fBfGuJFIhGfz29tbWWxWC0tLTKZ7OnTp4aGhlZWVvfv33d0dNTR0bl9+zYlFkul0tra2mPHjhkYGHz66achISFogKLpjR+d8fHxmpqax48fz87ONjQ0dHR0bG5uRkMfZQEoP3z4sKmpaVpaWkhIiIaGxrFjx8iFi8ViiUTCYrEuXrxoZ2f3j3/8Y/78+R0dHRiG8fl8NpvNYrE4HE57e7tQKETlqxogIBrNwCKAHfC2ra2NxWKx2WyJRMJms42NjVetWlVYWOjr6ztjxozz58+T2wU7VCwWKzU11cjI6OOPP3Z1dYUz12TiYRbR792hXLAhfPr0aWNj4+PHjx85ckRDQyMsLIxy/ZBKpa2trdnZ2W5ubp9++un48eOhvzo6OjgcjvK8BQpp+PZuXuExngjpxGd6CqVS6cmTJ7Ozs9GKTpkeegG4kZ6e3r9/fwTxSUlJc+bMUQbiVcpISQbMjp5AfEtLi7m5+c8//3zlyhWk8SPUhW+sSusZoRz0mJKScvnyZfSoUuAvCvEg/JaUlOzevXvXrl179uxJSEjgcDjx8fHffPNNp5SHYdjFixd1dHQiIyNFIhEBv8RiMdzSPnjw4LZt24YNG7Zv3z5KtALFIpvNNjIycnJy4vF4EonE0dFxwoQJlIsHhmHl5eWLFy/29PSUSCQtLS1z5sxZsGBBXV0dYT0AGbOkpCQ+Pj40NHTAgAH6+vpCoRDDsLKyssjIyNDQ0ODgYB8fn6ysLHITEPDRB9SAeJDfKysr9+3bt3Pnzj179sTGxjY2Nl64cGHQoEGggb17966+vv7OnTsFAgElbx89ehQTE+Pt7T1y5EhPT095EK+MrhM1EMOw58+fm5mZbdq0qb29/cWLFytXrpw6dSp8UaFkEMAw7PHjx0ePHo2MjBw2bNi4ceMA4qurq2NjY8PCwvbs2ePt7Z2enk5uAr6oPgrxOA/SJEQnRdAiSltbW0JCgsK7rMATtCQPGDAAHRRRXlFz/vx55TPKo7onUrxMJgsNDf3222+9vLza29vlVYFvbK8sS7m5uSdPnpRXHX38XxTipVKpTCZLSkoaOnTo/Pnzw8PDk5OTORzOjh07fvjhB1gwa2trTU1Nzc3NKcXtFy9eNDQ0cDic7Ozs33//PTQ0lBLiASJzc3PHjh0LyhypVOrp6fnLL79cvXqV8H0AEyAzM/Prr7/evXs39Nzq1av79++fl5dHgHjQuT9//ry5ubm8vHzkyJF6enoA8eXl5bGxsdHR0Y6OjoMGDXJ3d1eo0MejEj6sBsRDlszMzF9++UVTUzMkJOTYsWMsFis6Onrw4MHHjx/HMKytrc3Ozm7RokX4o3KoXrFY3NTUxGKx7t27N2XKFA8PD0qIB3Yp1HWiYjEMu3v37vfff+/o6Ajyl7Oz8z//+c/U1FQCb1+8eCGRSOrr6xsaGurq6qZMmaKhoQHDoKam5siRI9HR0Z6enkOGDLGwsICvdVQLIdBXIR5hfBegv9bZdI051SC+rq7u2LFjsEzSYA2wBbhRUFAwfvz4wMBASL9///6ffvpJme1WlTLKI0YgEPj5+c2cOfPOnTvy0siLh1G9fPny6upqeWnQWILG9sqyVFBQcOjQIZoaaV79dSEew7AjR44MHDjQ09NTKBSC7Oni4qKtrV1cXIxhGIfDMTIymjJlSlVVFeo2/AQGLMvOzh4zZgw9xCckJHz55Zfx8fFwiy8kJGT69OlZWVmUEJ+env7xxx/v2bMHus3U1PTf//73lStXKGmAYVRZWTlixAg9PT1Q1Lx48QKUM7m5uT/88MOWLVvePsSfP39+6NChlpaWXC4XPmX27t07ffr0nJwcEL3t7e1HjRoFrCZvEUO7ioqKJk6c6O7uTgPxCnWdqMswDLtx48YXX3zh4OAA5bu7u//P//xPQkICoSPweNTU1DRp0iQE8Yi39+/f/+2331atWvWeQnw3kq/LICO8ihBfUVFx5MiRyspKGpTBD11QlVhaWhoaGsK3qZ+f3+zZs0GIgZGALwrffXw+X/mM+ELwYaFQGBQUNHv27IKCAny8MmF9fX09Pb379++jxLLuH3qEAH789MqyVFZWFhYWRqhFyce/NMQfO3Zs8ODBO3bsAGZ1dHRs2rRpxYoVT58+BYhfunTp6NGjnzx5gh+jaMwBTFy+fFkhxMfExHz22WeHDx8GqIqOjp47d252djYBWaBAUN4hK32mpqaffvopiPyoahSALOXl5cOHD0cQj7Y6r1+/Pnz4cAcHh7cP8RcvXhwxYoS1tTWsOjKZzNvbe8GCBUVFRQDxtra23333HUwzMsTDqlBYWPjHH3/QQ7xCXSfiFYZhN2/eHDhwoLu7OyzPbm5uf//732Grg0wD8LahoWHixIkI4hFvHz58+Pvvv5uamsJJQVQLIQCFKDkb326ybmldNQd7FAQWFRXFx8dT2qXBp0ZsAc6fPXt2+PDhTk5OqampJiYm4eHhXC4XnSnolYz4QlC4ra3N399/9uzZ//3vf62trVNTU+FsPkpAExAKhf/7v/+7YMGCiIiIffv27d27t7i4mAbiYQz3yrJUV1eHzpjSUEj56q8O8d9//72XlxfMQz6fb2tri4f4ZcuWjRkzpucQf+jQoX79+sXFxQHER0VF0UP8gAEDDhw4AB1mamr6ySefyIN4GEYEiEdn9XJzc4cNG/YOId7KyorH48G3i5eX14IFC0BsFwgEmzZtGjJkCOhwyfCqPMQr1HUicAGIHzRo0Pbt25WBeKCBAPGItyUlJe85xL90cIfT0uBdz3V5vlPmdPzdu3ePHTsG54ApIQYiUS/AdnpHR0dkZKSFhYWjo2NgYCBMMTQM8OWonRFfCAo3Njbq6uoaGBjMnz9/7ty5jo6OIM+hBDQBNputr6+/cOHCJUuWGBgYGBoawnkBchZEs6rrGbkoiGloaAgODpb3lj7+rw7xgwcPRhDfue/n7Ow8Z84ckDTZbLaZmZmuri4Ye0PdhgKwMCgjxcfFxX3++edIUbN3715NTU15ipqMjIx+/frt3bsX1gMTExMaRc37AvEYhu3evXvatGnw7cLn8x0dHSdPnvzw4UPCpwxiL4ZhykjxCnWd+AJv3rw5YMCAbdu2Qd+5ubnRKGo+eIinhwYl36oB8eg22fPnzysqKoRCId5ADbAd1Y66DwJwbkeZjKgEhQH6s0AKs5MT4GmG479KrmfkoiCGgXh5nCHGoxPisNsGihoE8Z2Q6u7u/t///vfChQsYhlVXV1tZWXl5eeE/IfGdBzBx9erVsWPHyjtRA8s47NKg7VZvb+/Ro0fL225NT0//5JNP4BQmhmGmpqbffvstHL/B147CXRtkFRUjRoxAJ2qQpNl3pHgMw/bv3//VV1/BpwyHw3FycrKzswPpD7UFH8Aw7N69e5MnT96+fTusdvi3qI0KdZ0oF0jxX3zxhZOTE8xqNze3zz//PCMjg1IRB1jT2Ng4adKksWPHwhc9qvcDkOKJ00OtZ/UgHm98kYDv9BCvfEa1WtM7mdCQg0DPlyUG4pXtGIUQv2/fvo8//hiU5hcuXJg3bx7+0h2h52CduH79+qhRo0DoxhtERYkxDGOz2YsWLVq7dm1LS0vnfp2Tk5Oent6DBw8IyAJrRlFR0eTJk0EBzeVy58yZY25uLm9PD7I8ffp0xIgRCxYsgBUF7oJiGNanID4lJeXTTz+F09D5+fnz58+PjIyUdv8Qr1AAGvLw4cNx48a5uLhAB6O3KKDM3h0+8ZMnT3R0dCwtLTs6OmQy2YoVKwwMDMCLNEqGD2AYxmKxAOKhC0CZgGEYA/HQKWpDPCyWSDlDYDua0vh4FJZ32xnlercBRCcKoBP09OuZPLIZiJfHGWI8DcTDSlteXm5oaLh8+fK0tDQbGxsjIyMAYvJAFIvFLBbr5s2bzs7O//jHPxYuXJiXl8fhcNCWEepdQKuoqKhhw4b5+fklJCSsXr06Li5OJBKRE8tkso6OjuDg4Llz5x47diwgIGDq1KkXL16k1GaIxWKBQFBeXh4REdGvX7+RI0eePn26uroa7C70KYiXyWT19fWrV6/W19c/deqUi4vLokWLwEgIJW9bW1sLCgp8fX0/+eQTTU3Ny5cvNzY2ktkFvKXfu0MdAbMrNjZ2zpw5UVFR0dHRkyZNgkOcaGCgxGKxWCQSPX36NCEhYeDAgQMGDDh69OjTp087OjqgUgbiYXb1BOIRtwkB/LwlvKJ/xGd8h2FKInuyLDEQr2xvoplMVtTA/McwDC7NW1tbe3h43LhxAy5JkftMKpVWVVVFRkauX79+wYIFa9euDQkJkXe8Eq5KBgcHW1lZOTo6hoaGwr15SnTDMOzhw4eurq5WVlaWlpaHDx/m8/lkdIOz2+3t7RkZGQ4ODosXL16xYsWOHTtu3boFl3H6FMTD10ZhYeGmTZssLCxcXV0vXboEliwpeVtfXx8XF7dx40YDA4PO3YjAwEDyRw9kVKjrROUDDdXV1Tt37rSwsLCysgoPD29tbZXH246OjqysLFdX16VLly5btszNzS0rK6u9vR0GDwPxMOuUhHhlp+gHkQ4NOWUCyrSYgXhluNSVhh7ike1cNptdWloKamKUhdxbnYZJwQBZQ0NDbW1tTU0NjaUq0CZXVVU9efIEtpvIBaIYmUzG4XAKCwsfP34Mt1jRK0JAKBQ2NjbW1NQ0NDTU19fX1NRwOBzUkL6jqEEq7La2tgcPHsCBaMK9VtQ0sVjM5/Pr6urAaFRdXV11dXVbW5u8vqDXdaJiIYBMvD169AhOQBISoEeRSMRisaqrq+u770DV1NSwWCy4QsEoatCU6/sQjzoUBZDahPxxjNrVkwCqCAV6WCMD8cp2B8IISike+gM+wwGRUXrUVfgAOiIN1ZO1bPjE6BQBlEyW3/GJAdahWHk4iNLjRw8Y/EJ42qcgHj47EK/o20XgLXkqouZDADFBYS/gS6aU3/Elo8EAZMN4gK8BRooHnigJ8XiuErqM3LlQcm/9JVQNI0QZn4JqE9DrNTIQr2xfIMimgXjoHnmKM0LnQTL0l/CW/KhksZBRIpHQrwSQDNWOAn0W4hHBZM6QY1BzlGSaksmgIiV5i7YEETGItwzEw6xTD+J7iLNisbi5uRmuXCic/Pih1XPXgO3t7SwWC+4Syqu6d2vEMIyBeHmsJsYrD/H4TnofwyBp9jUp/n3kJJlmRorHzys1IL7nOHvx4kVra+u4uDgwyoSnhxxGPQgdR2+XlJwdH9PS0hIWFmZnZ3f79m3CFx4+WS/WCMUyEI9nL12YgXg0+JQM0IxjAqOR4gWygAEDdLtVyerei2QMxOO7XlWI7znOtra2btiwYciQISYmJjR+phCRaFApY5cU5aIMeHt7a2trDx8+PD4+nnB+H5++F2uEYhmIx7OXLqw8xCujIUEdqVJilKt3AwQ1BUykvinFE0il50Of5S2jqIGZpirE9xBnZTLZqVOnIiMjtbS0jIyMaCz6IiCAAYYWZuV9CqISIMDhcGxsbNzd3adMmXL48GGFEN/zGhEBDMQjVigIKAPx0DFQEJJM5cEQXshVBowgvcJioTqweKywWDwNqOS+CfFq8xZ1nLyOQHu5CndQEW/Ju3zkwvEEo5IhkoF4mCMqQTxindo4K5VKr169+vz5cz09PWNjY2XU8dCtULVCu6Q0CNLc3Nxpey49PX3atGlxcXFKQnxPakTEMBCPWKEggJBC3nYrwGV9fX1WVpbCQ3XgLejx48c5OTng9Y0ejoG45uZmNpsNu3ZkTEExcPG1paUFTumheEIABm5dXV1WVlZpaSk6BQjxfUqKB5I4HE5ubm5xcTFoUQnNQY+wvFVVVWVnZ4ONINR3KA0+AOcmwR+TSCRS2BESiYTD4QgEApqUQHBzc3NOTk5hYSGYUvmwt1u7jE+++uHMk9FNKzUgvoeoJxQKm5qadHR0Vq9erSrEK7RLStNUAIf09PRJkyYpL8X3pEZEDAPxiBUKAggmKCEepnRJSYm3t7eTk5Orq2t6ejqfz0e58JgCRzJu3Lixa9eurVu3Ojk5gRVpfBp8GNxzJycndxpcvHfvHjiZwydAYQSFkZGRhw8flmchB481Pj4+rq6uLi4uKSkpcDcHCulTEA9+lPz9/R0dHbdt23bixInW1lb02YGaD/K4TCYrLCwMDAx0cnKyt7eHe7CUHQHClFQq7bQs5OHhcf36dYlEQlks4hiPxzt69Gh4eDiNU1xgYGVlZWBgoHP3Lz4+nsPhSKVSNE7ed0uTxNlSsWfiK9uS3VivFMirAfE9R72Ghgb1IF6hXVIiT0jPZ86cUQnie14jc6KG1AnyIxBGUEK8TCarra01MjKysrIqLCzs3DefO3fuvXv3yF/0MMlv3769fPlyHx+fu3fvzpgxQ0dH5/nz5+hzHmEWOFktKysLCQkZPXq0hobGrVu3yGVCehAqS0pKXF1d+/fvb2ZmRm+dprGx0dLScuvWrUVFRe7u7jNmzLh27Rpc8upTt1tlMllbW5ulpeXq1avz8/O9vb01NTXBzwlBjgbelpeXm5qaOjk5FRYWLlq0aMKECSUlJQSTPgDZUqn02bNnYI3gxx9/BGMPlBAPewCPHz/28/MbNGjQ3Llz4dsL9RQ+AAQ7OTlZWlrm5+eHhIR0WqpJS0sDw8jv+9UnvOtWajdP3cbk91TIn0uv3tBAPNhSh79oeGMY1nPUo4R4WH3he+4VdV3/8VUrtEuKz0gZVhXie14jA/GUHUEdSQPxkOHIkSPId2taWtrMmTMPHz4Mnlrx8x9WiAMHDkyZMgVwavv27f/617/Onj2LhhRKDyYQMjIy/Pz8rKysZs+eDa7fCdAG6eFe68mTJ7du3frzzz9v2LBBHsQDDSkpKZ3LBtSbk5Mze/bsvXv3opNkfUeKxzDs0qVL3377rb+/P3hf0tbWDgoKEgqFBDiGz+FTp05NmjQpKSkJw7CIiIj/+7//A1ueiKsQAMVUdna2n5/f1q1bp0+fDlZCCWUi3vJ4vIyMDBcXl99//93Q0FCeATJYZrKysjQ0NMChWmlp6fz58z08PKA73neIR279uoY9JZq/uQhQT6fuWBqIh5GPNwECjO056lFCfEdHB3xzE6hFQwXDMIV2SQl5yY8A8crr4nteIwPx5F6QG6MQ4j08PAYNGgQwUVNTY2ZmZm1tjazIInyRyWR8Pt/Hx2ft2rXgxTEjI+Pnn38GPx4E7BaLxUKh8NmzZ62trTk5OYaGhiBoE5JB4eCSu7KysqyszNzc3NrauqWlhbxsoLuywcHBv/76K3jLa25utrKyQiT1KSkew7ADBw58/fXXYDSfw+Fs2rRp1apVZFv8IIvt379/xYoVYJfm+vXrGhoa7u7u6O4u6gjgIZgWuH///sKFC2G1o4R4qVTK5XIru3+Ojo4rV64kOz1HvYBhWFxc3E8//QSeXTv9qru6ui5ZsgRIeu8hHofxVAhPFSdnVtFAPD4HMBYgvoeoJ5PJWCyWnp6emZkZbJBARaD3w1cKYTRalLFLSs6Oj5HJZOfOnZs+fXpiYiK0Bf8WhXuxRiiT0cUj3ioI0EN8J4K4urrOnDkTlDMcDsfY2FhTU5PsQhrDsJqaGmNjY3d3d9jwqa6u1tPT61TKo0051M0QgO/H7OzsBQsW0EA8JAYbtgohXiqV+vv76+npAcECgWDjxo3Tp09HviX7lBS/d+/eKVOmgJX8ToFr69atv/32G5CKX+0wDGtpaelc22xtbdlsNoZhzc3NRkZGJiYm8lY7+KApKSkxNDREuhQC/9EjzHNHR8cVK1bQQ3xUVJS2tjZ4bpFIJN7e3hoaGrCavv8QjzC+C80JSvcuCf6VUl7BjOr2eK6S16ee42xzc3NSUtKvv/46bdq0jIyMiooK0AXx+XxKalHXwwcivV1SyhIgUiKRXL9+3cvLa+jQofb29llZWaDoI2fprRpRyQzEI1YoCNBDfEdHh8lNnI8AACAASURBVJ2d3bJly8DXMJvNlue7FYxBamlpeXp6gm/Stra2pUuXmpqatra2UgrdAEOZmZlKQnx9fT18Q8jDNZgqHh4eRkZGZWVl8Lhu3ToNDQ3kd7jvQLxUKt2xY8f8+fPBk59AIJDnuxXDsPr6en19fVtbW2Bm5wkKS0tLfX19MM+J5g8KwNQtKCgwMDBQBuJbW1u3bNlCA/HwubB79+5FixbduXMHNk7c3d1//PHHS5cuwSB77w9NAraTEF4lfMdUh/ge4iyGYbdu3ZozZ8647p+urm5YWBiNQE2YjArtktIgSEdHx6JFi6ZNm6ahoTFlyhRDQ0OQV8hZ0MhU1YshuSiIYSBeHmeI8fQQz+PxbGxsVq1aBTaB2Wz2smXLNDQ0wLsj6jYYT6WlpVOnTt2+fTtAfEtLy+LFi9esWSNPdQ4j+/Lly70I8e3t7S4uLqtXr66o6NoX4/F469atGzt2bN+E+O3btxsaGoLYTuO7FcOw2tpaHR0dGxsbYKZAINiwYcOCBQvkCd3QI4WFhcpDvL29PT3Ev3jxIiAgYPHixciBuLu7+/DhwzMzM2FUvfcQDzr4N9xzd+G98vI78EElRQ1Mop7gLHFKK/GMZi4E6O2SKlGe4iS9XiMD8YqZDinoIV4ikTg5Oeno6AAMsdlsU1NTHR0dsr4Yzv/p6+u7urrC52Ftba2BgYGrq6s8Q8F/BsSLRCIfHx8DAwNwNsvj8aytrefMmYP0xX1HiscwLCgoaMaMGbm5uXC/0cHB4Y8//igtLSUcLsIwrKmpadWqVRs3buRwOKC3MTMzW79+fXt7O/nAEjoK2YsQD6fyw8PDdXR0gGCxWLxjx46JEydev34dxtL7D/Ek99xdAvybP4IGh2qeqQHxaCepd12wUlHXFUcA3D/JNSD+JE+v18hAvLzOJcbTQ3zneTg3N7fBgweDpPb8+XNLS0sXF5eWlhYCsoCvvi1btqxbt+758+ewsTl+/PiDBw8SAAt1NkB8VlaWoaEhwAReAY2SQQD20NesWWNjYyNP8wNDKjAwcMyYMQBDLBbL3t7ezs6uvr4eWt6nID48PHzQoEHHjh0D1HZycrKysqqvryfwFrayd+zYsXLlSlBAFRcXa2pqenl54S3+4zkGUnxxcfHChQvBESvldivibVtb29atW1euXAmMwhcFYeismJiYUaNGnT59GpRgPj4+a9asefz4MfD2A4B44vRQ61k9iP+TcJayBeT+BbGAcgJSlqAwEjYDULJer5GBeMRbBQGFEB8SEvLJJ5+AH+2srCwDA4Pjx4/jT31B54HH0eDg4ClTpuTl5WEYFhAQMGjQIDiUTdnBQNnly5f19PQA4ulhCL4hbG1tQRFEHo6g3I+Jifn+++9PnTqFYRgcIT9w4ACSkvoUxJ84ceI///lPYGAghmHFxcWLFy/et28fXHTCcwzg9ejRoxMmTIDjMXFxcQMHDoTDi2Q+oMYWFhbq6ekBxBOWDXz5gNf29vYrV66EfQ40KlAyWDPOnj37ww8/REVFYRhWVVW1evVqX19fZBSFgXgY0mpDfK/jrLzJj7pVmYC8QlSKV6YilEaZkhmIV4ZLXWnQZAZ8PHbs2ODBg728vJCbiPv372tra69aterixYuwI1dcXEwWzAECLl68OHPmTAcHh4sXL86fP9/ExAQcRaHOgwBcfXr27FlmZqaJiUn//v3t7e1v377N5XIRPfgsYrG4qanpxIkTo0ePHjt27MmTJ8vKyjoP7RESAw2PHj1asmSJmZnZpUuX3N3dFy5cCPeqACj7FMRXV1cvXrx4/vz5GRkZ27dvNzAwgNMpBNSGdt29e3fevHmWlpaZmZlGRkYGBgawB45nFLr6VFtbm52dvWnTps8//3zdunW5ubkcDofALsgIdgvS0tKmTZs2dOjQw4cPl5aWUnYE1n1oyszMbNmyZRkZGcHBwXp6ep1Mhp3YD+BEjbJzRlG6nkA8oTfRo6I6/3LvGYhXtsvRtKeEePC1dOnSJQsLiy1btri7u1+6dAlcXaPBhwIymay9vf3EiRN2dnYODg6urq6U92ABhmQy2d27d0NDQ01NTQ0NDW1sbBISEij9TcN6UFJS4uvru2zZMgMDA09Pz05f4aCVRrVDAG7qZ2ZmWltbOzo6urm5paend3R0oEv2fQfiAbivX79ua2trZ2fn6up6+vRpHo9H+SnTuSkiFArT0tLs7e0dHBycnJzQlV0CB6DYBw8eREZGrlu3zsDAYMOGDYcOHaquriaXDFfYKisr9+7du2rVKn19fWdn5+TkZMoLULBG3rx5c8uWLfb29i4uLomJiWgzgIF4NOWUhHiUngmowQEG4pVlGj3Eg34QzBjcuXOnpqYGDI0RYAU9gjbg8ePHBQUFAMGofJQGAmKxuKWl5fnz57W1tQ0NDc+fP6+vr+fz+QQBFiVmsVjl5eVwSaesrKyqqkqeqRxQGdXW1t65c6eqqgoRDNjXdyAeWYJsamq6e/fukydPYEElMAo9QkOqqqru3r1L70RXLBZzuVy8E926ujoejyePty0tLRUVFZWVlU+ePCkrK3vy5Ik8j7uA8o2Njfn5+RUVFYhg4C2jqIFZx0C8sujTg3R9GuI7+PwXEmkPWtebWREEU0rxgC/wCmolS4IIg8iJUeGENPAIeIEaQ+9ilJAYpHLKYvHbVmA+BZL1QYhHKN/rvIXGKslbQmJ63uI7Ag0GBuIRq5U/F4/P8pbD5ImDn+MEUYBA27vKSyDjXUK8VCzk84UEguBRJsMwrN3Xel36vWfdPqkpUomFgg6hmOLFnxOFUJgG4hFEEvqe3NmqppRXAmW8+M0fZRp8JCRHMX0T4oE8JRlLsx2Hmqle4E3WihUWQslbRoqHOaqkFE9msvI420MwIFStktvYd5WX0OR3CPGiiC0Lx0xe9Ij9gkAThmGXj/g5e+/eYrnBa6+vg6Pf81aSLM97Zqs7do6JO7drMXgbP+UhntC1791jDyFeAj0iE0skyi7ASMgFyZdx7AdjhvDR8DZG+dutQz2IVwlnyQ168OBBWFjYlStXaPxyoFz4yauq29h3lRcRD4F3BvGC+nsGkzW+/PpH32Nd91kIv4YneXZr9T776psfxs06kHCjg4QVFbmJ43784Zthf5wtfHmOm1BCrz8yEI8fstRhsVgqlXAbKq5dulpW34a/0EHfHQzEU/KTgXgYNnjmqIqzhIEnkUi2bNny/fffb9iwAZ1hJaTBP6KqoS9Ucs/9rvLi6X+XliavHfVZZuF8YMfG2UYuEgJRGPa06PzaFXO/+3H4z5Nm+oalt5ME/QOuZrY+EW6meut2JZJy/ykRykM84dsc9TRl4J1rHsg6DbWkeJHo1a5JxZkdI/7f586nlLAX/qqjlIf4D4O3jKIGel5VKV4NnH01xF7+z83NdXV1nTx5spGRkfJen0DeFwgEdnZ25ubmYD7Wz89vzJgx586dQwejCXWh+a6Gy9me5CWQ8a6keIm7iY59eCa7OOWnnydcq+4gkHX5+L6AvVGOFuYBURH+/vvruW8qavjPls6ecvRGXV6sy2jNFQ0iQm4Fj0lJSUPf/P3666/o4r68zMpAPF7sQrCFeosQwG/HocIJaeARHb0H2hSuCpCeflcWlYzaiwhWA+IlUpmspfzUgeDE/Bb27UNTBv0Sfrux4VH67rDEGs6bfYfqwwVQ1TSKGjxvFTZNed4S9pwV8halV5iSkmCIZCAeOl9ViFcDK3GjrOtqy8mTJ8vLy8F3q/JSPOo1ldzG4qdYSUnJW8uLb/I7k+I76m7rTtW68vQFhnEXTR7lGptDIKv7kb/Xxf5SKYUe5vHVg1qzlzdhGFZ3bdwvo1PuUqShKvBl3OHDh//15u+LL74AUy00uRAKy9tuhXHQ0tJSWFj49OlTsjMQPHzDsfTa2tqCggIQClD5+GQQBjHh8ePHxcXFYF2LBl+ADLFY3N7eLhQKyaWhGEjJZrMLCwsfP34MCwMI9arai++y5lF10Xzi//vHkPleO/3mGS53CnWb8+t/PvlmZW4VtZlWPKuVgfiu/ff29qKiooqKCpFIRHMHFU4oNjY2FhQUgJkBGt6Cl8Sqqqp79+7Rn15FnAHb8R0dHYiT5ADwtq2trbi4+NGjR3gz0R/qufhuO2RgpkYJ8zTd3a8SxANLVcVK/DCDMKVLEHIyiIGehapVdRv7rvIS2vJupPjrR7YPGjkhMTMvLy93jeaoaStdSZqYLjq7rDcQ6O1+3L/F4CetlVnXr+ddPTXth28sA5OpUvVyHIIJSoiHQVBeXh4eHu7v7x8UFJSVlSUQCFAuPAqAVYOioqLo6GhfX9+goKDy8nJKm0cgM/L5/OTk5ODg4F27dkVGRoJdXEqUR8hy8uTJ1NRU8MWKrxqFIWVFRUVERERQUFBAQMDFixfhBD28UulcvFgslbzg1pSecLUzGDHwy3/+59PPvh2mbbIrPata+HL7la47FEI8hmHV1dUHDx708/MLCAg4d+4c5bVS5Lv14cOHMTExvt0/edfKILFIJMrIyNi9e7e/v39YWBjcg6XhrUAgSEtLS0hIAF+siJ+EAFxwPXToEPD29OnT4HQCeNtzKb6goGDPm7+oqCjkVYqO13/Wu4x1r8zEK+30CVMD4lXFWXJz1YZ4Vd3GwpCAHn+beQlNfjcQH2ihPWDwcN358/X1588YO+KbkVPy65TWtoiajDWHDf51gn7Xb8HYIV+NnrueTdqPJbQT/9jc3HzrzV9+fr5AIMCnIYcRWFNCPBgXs7W13bhxY05Ojp2d3YpXjofIeIFhWFFRkaWlpY+PT3Z2tq6urpGRkbwLq+CvUkdHJyoq6tSpUytXrgwNDaXEbqiovLzcz89v+PDhVlZW8qwTg26Rw+G4uLhs3bo1JyfHzc3NwMAgPz9fbd+t3eqY1qwUn3Hf/POjjz7636/HbIu91UrUwJH52hVDD/EymUwgELi5uZmZmXW6QvTw8FiwYAGlOTaYTk+ePLGzs3Nxcbl27RrcRAX7XwQUhsQ3b97U19cPDAy8ePGisbHxzp07yY66QH6XSCTPnj3bt2/fb7/9tnjxYnrfrXw+39fX19ra+vLly0FBQfPmzQMnjqBB6jnEOzk5vWnXsesJXNRSs7j3Yt9E8C7Z/RW2v6yDIkpO7WpAvKpYSa5ZbYhX1W0sHuLfZl5Ck98BxAvr7kwfNWp/ehGPy21p5XLqi2ZrjHA/THGuhkArPFZmx4waOTG7vInb1trG5VXeSvzpx19TChooE1NG7tmzhzw9wCcqZXqIpIF4SHDy5MnvvvsODEYmJSXNmjULzJAh/IIuh0keGxsLfmcwDHN0dPz000/BIyABhqRSqVAotLa2trKyam5uFggEmzdv1tLSArUSITH4bk1OTt66deuIESPWr18vz9Ik0JCWlqahoXHixAkMwy5cuDB79my1zZDJZJiovni35bjPvx46W2/pWM2Zc5dqfT/g6wmzfYqbFC/eiEVAGOHQJIZh2dnZQ4cO9fHx6TpQe/nynDlzwsLC4BMHzwRA7XPnzk2dOvXIkSMYhu3evftf//oXmCHDp4S8Eolkx44dYOVfKpV6e3tPnjwZfDUQFmawOQG+WzU0NDqtHVCaLkDKnOvXr48fPx58xubn5+vq6u7atQvt7/Uc4ktLS2Pf/IGNBJoB3Guv8BhPAeddrwmgL69qNSBeVawkV602xKvqNhbGG4zJt5mX0OR3APFZB52++0XrMe81JX5mWr/qbFRO4JPs3ThvzIJNrw/hSFhLfv9+6bbY18UpCl2/ft3izZ+dnR3Y9aXJ2tHRIRKJ0G4b3gwZ5Nq+ffvXX38N1gqrqqpMTU3t7e3J9mFkMllHR0dAQICJiQn4D0lOTh42bFhMTAzamscPjnv37mlqagJgSSQSFxeX4cOHU8KQVCrtdEXSaVzswYMHa9asUei7dc+ePT/99BMUVV9fb2FhYWlpCVogVXXxUgyT1udt0tZY6p72+Eai7hSdg7fvp0dZauluvltNfbsNz2ph9w9dYSVDfGRk5JdffgksYrFYmzZtWrNmDdnLB2jADh48uGzZMrABl5WVNWrUKG9vb7whOWAvhmFPnz7V09MDA5awHvzwww+JiV1ntNCKDomlUmlbW9ujR486zbqBpUly7ZASVqkjR44MHz785MmTGIa1tbU5OzuvXLkS1HHvvy7+Nca/gfBd0d0/ZVXx6ihqVMVK/DCDMIfD0dfXX7NmDYAvRMpRCb+0Fw8pVXUbi5/FbzMvocnvAOJLb5xLOpuDP2bx9H7O0aQMAaXenUAv9iLr7ImL1x/io29fPp2aeRsf0+thmUzG5XKFQiFsomIYRoZ4Nzc3TU1NcPTD4XBMTExmzpwJDrihs+EveCYyNzd3c3MDse7Jkydz5851dnYm7CICWCQmJn799ddgo1gqlQYFBU2ePBmcghIkTSRCNjc3K+O7NTAwcN68eeAtj8/nW1tbz5gxA33sq6SLf9F1mFHIbm4RYFj1OZ/vP/q3y9kqDJPxeHwpvqfldEx7e3tHRwcANIZhZIgPDQ2dOHHi5cuXOz96Ojo6HBwcxo4dC6TimQDW5Lds2dKpMQN9S2Nj44oVK9auXcvlcvG7HTBpr1y5Mnjw4ICAAKArJiZmwoQJgMsEiEd9x+PxlPHdevDgwVmzZsHyCb5bx40bBwbRegXiY2Njf3nzN23aNBhscnjcm9GvML4L4cl43hVLEU1BgBpSvKpYSaiVy+VmZ2dPmDBh7ty5sBsP5trlXYNCMxfsSFtaWhoaGsLq7ufnN3v2bLAHDoOQUNe7yksg4x1APIGC9+VRKBTSSPFCoXDz5s1LliwBtS849hs9evSTJ0/wyAIj6eHDhzNnzkS+W7lcLvhuJajOAeIPHTrUr1+/uLg42H+Ojo6eO3dudnY2QeSH8QTIpYzvVoFA4OnpuXLlykePHsHwNTc375HvVvHLL6vagrOu621P5tcq37Oi7p88KV4qlfr4+Ojp6cHyCY79vvvuO+Q2Dz+X6urqFixYsGnTJmCmUCi0srLS19cnCN3AqPT09C+++MLX1xdITU5O1tbWTklJIUvxUAWGYUr6bt27d+/ChQtv3+6SPDqPKoHv1l507BcUFPT3N38DBgwAH43Ks139lIDt1AiPgde/PUrci1AJ4mHu8Pl8lXCW0MaCgoIlS5aMGDFi1KhRRkZGhw8fhpEAc42QGD9zIYFK7rnRsHzLeQmtYCCewBC5j0haJGy3Qv+1t7dbW1sbGRk9e9ZlVEeee24YTyUlJVOmTEG+W1tbW8FuOyXEx8TEECB+3rx58iAepoEyEA++W01MTGBN4vF4PYX4VyNaIu36HJNJxPKmDZnFSGSGLAQpHiBy4cKFILaDe+7BgwfD9wfqF2h7XV0d+G6FfYiOjg4LC4v58+f3IsQr9N0qEon8/f2XLFmCFiF3d/dhw4b1IsR37tCw3/y1trbK0zaQGd7jmC50n4j33VqxZ+Iref5PkuKRBKASzhJaCrs+SHKH8QYzmpASHl8N6q7/qrqNfVd5CQ1hIJ7AELmPfD5fJBLJU9SIxWIHBwc9PT24QsVms42NjbW0tADx8Z2NYVhFRYWurq6bmxsc42loaDAwMHB0dKRU1MTGxn722Wfx8fFw8iQsLExLS0ueogZBvKmpKY0uHsMwoVDo7e2NcJPH43WeBVJfUYNvobgL3MXiF8pDvEAgACUYJcTLZDJ/f/9Zs2bduHEDLr/Y29traGhQKmoaGxuXLVuG2t7a2mrW/SMsn7DWZmRkDBgwwM/PD3o9ISFh+vTpycldZ3DRqoNvGUjx9BAPvlvDwsJ0dXXRV7y3t/e4cePAh2KvKGrkDtO39aIbx/HqGIgAZbySu62q6eKhI1TFWWX4QTNQ8b2PfIQp6Tb2XeUlNJmBeAJD5D4CxNNst7q5uY0YMQLAt66uzsLCYvPmzWw2G/+5BxDc3NxsY2NjaWkJB+9u3rw5adKkiIgIgu4FRt7Zs2d//PFHpIvftWvX2LFjKbdbYUgp6btVJpMFBgaOHz8eTh9yOJwtW7ZYWFigbWfVdPGE4dz9SDNzCFwWCAQdHR3g0oRSF79v376hQ4ei3UsnJyczMzMgFV+zTCbj8Xju7u7GxsagInvw4MGsWbPc3d0JqA0Qf+PGjV9++QXp4iMjI0ePHg1HjORBvPK+W8eMGQPOBQUCgY+Pz6pVqx4+fLmH1PMTNQQGvqePqipqoK/hY0VJnFWGMzRfP/jRBWEk8pOvWBPqeld5CWQwEE9giNxHpBAgKGoALOA8Rr9+/eA8xs2bN5cuXRofHw9LAr6zwch4YGCglpbWnTt3MAwLCwsbMmQIGLvAp4SSnz59qqOj4+LiAhdiXV1dZ82aRdZRoIwYhrFYLDMzs02bNtH7bo2Ojh46dGh6ejqGYaWlpStXrgwLC4Msqp6oQbXjA8pDvEQigX0OyEJQ1GAYlpiY+Nlnn+3duxfDsLKyMiMjoz179oCPKnyNIEHHxcVNnTr10qVLkPH777+Pjo4mLLSw1jY1Na1cudLc3Bz2vYOCgqZOnQrqFNTd+PLxvlvlXYWFJpw6dWro0KFwWPP58+fr1q3z9vYG3dGHIcXLnSeqvFAP4pGYBbtThJ5SpX7FafG9j8LyDCURikPp8YG3kJdABgPxBIbIfURiHRniQQq4c+fO9OnT169ff/36dXd39+XLl9+9e5cgmKNDL+np6VpaWt7e3tevX1/a/SPLpGgo+/n5jR8/Pj4+/vz586ampgEBAaB4xQ8dCIvFYg6Hk5aWNn78+KlTp54/f76yspLsAw8Wj3v37unp6dnZ2d24cSMgIGDRokXIB95bhniF5+IrKirmzp27fPny3NzcwMBAQ0NDOF1DmN5INtfW1nZwcLh58+a6det0dHRKS0vJEA/9ePjwYQ0NjdDQ0JycnPXr13t4eIDNA0retrW1Xb16dfbs2Z2HWVJSUsrLy7lcLiIeZcEwrLKyctmyZWvWrMnNzY2KilqwYEF6ejq4o2IgHs0xtSEe5hGh94H/qPBeCaA+VSZAqFGZLChNL+YlFMVAPIEhch/pIR7meVJSkoWFxY4dO9zd3ZOTkynnP2j0mpqaoqKiHB0dfXx8HBwc6LdPy8vLnZyctm7dumPHDj8/v9LSUvJHIgx6iUTy8OHDwMDABQsW6Onp7dy5MyMjg6wsQnf3U1JSbGxsdu7cuX379oSEhLa2tj7ouxVszpw7d27jxo3bt2/38PCIi4tjs9lkbIVFsa2t7ejRo4i36enpYIgGTScU6LJyVFfn6em5adMmHx+fHTt25OfnUyaGPZinT5+Gh4cvWbJkzpw5Hh4eqamplOsBnP68cOHC5s2bvb29vby8oqOjm5ubodcYiEdzrCcQjzqREECFv+8BQruQwAftIixvNI1lIJ6GOW+8ood4AG4+n3///v2cnJzS0lKy7Iz6DPCipaWloKCg85L948ePITtKgA+AfqaxsTEvL+/69eu1tbUA0Pg0KCwWi+vr62/fvp2Xl3ft2rUbN248ePCA0toBjBg+n19cXJyTk3P//n2UDGTht6mLR2BNqagB5giFwgcPHuTk5BQVFaGlCDUcBYC3XC63qKgoJyeHYAIMJYMAJGaz2bdu3crNza2qqpLnUR1WUBaLlZ+fD7y9fv36/fv3wfIMoVjgbUdHx8OHD3NycgoLC+GrC6YlA/FoXikJ8Si9egHK3kFFKY+VKMvbCRDIBvkARhTcT5RKpaDeBK2jPKoYiJfHGWK8QogHJALNDJzKIowefJ8he78Aagjj8GlQGKUB8EWUoASEAIi9lJI+ISWiE7TYQHAfhHgkwsCCR9804C0I46CuJbQa/wiNRfK1Qt6ijqPpXCgfFEEEgqE6ZrsVZpfyEI/vMjx7oRxCXxCmLiGv2lhJKFa9R5qtXUKBeLJ74giFgXgCY+U+oslPqYtH/QHbKYQxh94SAvL2XgjJ4FHJxIgAFKAsDUWSk/VNiEfqV+V52312U7F7VVQy4glNALELAjQpUbF4ghmIx08wtSFeJZjG91FPsBJPuRphmUx2//797OxsMDiosARENowZlRxO4QtnIB7PDbqwkhCPOub9DfRZiH9/WYooZyAeP8fUg3hVYZrAfLWxEk+58sI4ynXjxg1jY+Pff/89NTUVhgF6RRlAZPfQEQoD8ZTspYhkIB6NOSUDoF+iYCUpCump5Onilayx7ydjIB7f+WpAPDBQJZhGo6KHWAmUt7e337x589atW2D1CN8cmrBYLF69evWiRYt+/fXXmJgYkUix+VUgGw0YlZxG4SlhIB7PDbqw8hCP/zBHw6vnAWU0A6gWlWggJIZR1ae2W9VrF8qlMKASbxWWhk9AydsPWBcP5iaVvN6qBsSrAdPQHT3HStjXOX78+OzZs/X19cGUKR1k4N7V19cfPHgwPj5eS0srLi6OfoMU8uHJ7okjFAbicf1AG1QG4mEYQTEoPX7CE8KQnsZHHUoPGwCUdz1QGgjAfiDQgKRjQhr0SEkwRPY1iFepXaAHV7jXCnxQnrdo1xfvxgQxkxxAn/OoI4C3HyzEZ6z7aOK6dSQnIfImlqoQj7inkkgL/QJ5e4KVYHtq+fLl8+bNmz59OlwLl9c0QnynSSixWHzx4sXJkycfPnxYVYjviSMUBuIJfSH3EUE25XYrmK/BMIzD4Tx8+LCurg6u45OnPYqBclpaWjq9LxFkPZQGArAGPH36tLy8HO5h0qQHH0nV1dW1tbVwtIZQGnqEQQ8EP3/+HM5+IHDsUxAPpILF9pqaGoBa1BByAHjL5XJZLBa0iJwGYqTdv+rq6rKyMvj0puEteGipra2trq6GWSqvWHjb2tpaVlZWVVWFDsUikPr9999NTU0JJo4JpUFiuSPyHb14ZUkYqu+2R/bSqmRXeF0GPkYBiepBvKowDVwFZvYEK2UyWXFxcVJSkp+fxTySxgAAIABJREFUn7a2NlhMUtDCN1+fOXNm0qRJakB8TxyhMBD/ZifIf6KHeJjSNTU18fHxu3fvjoiIuHXrFs0haxADS0tLQ0JCKC9qotkukUgEAsGFCxdCQkL27NmTmJjY1NTlmRwlwAckEgmbzU5LSwsPD9+7d29mZiafz0ciJD4lEFxdXX3kyJG9e/fu378/Ly8PnM3CZOhTEI9hWGNj44kTJ3bv3h0eHp6Tk8Pj8VCPENoF+F5ZWbl///4zZ84AiBPSwCOUkJOTExYWtmfPnvj4+JqaGvKFZEgMXkEyMzP379+/d+/etLS0trY2eV9gGIY1NTUlJSWFhISEhYVdvnwZrh18ABCP4TEeh+cA8CqYEsaUNUOGRrt6MA3dB3l7gpUymYzNZvN4vMDAwBkzZij0E0fGErUhvieOUBiIJ3cEdQwCFEopXiaTtbS0eHt729vbnzlzxs7OztLSEux3k8FFIpG0trZmZ2dv2rRp5MiRZANkKAuMy+zs7FWrVoWGhsbFxZmamsbExFACNyS+cuXKxo0bIyIi3NzcFi1aBAORLJnKZLLW1tbAwEAXF5czZ844OzuvWbMG1Iuw59l3IB6MC+7evdvGxiY1NdXV1dXU1BSMQyBGoYBEImlvb79x44arq+tPP/3k0+0LkBKIgV1FRUWmpqa+vr4nTpxYu3ZtaGgoh8Mhp4fE+fn5mzZt2rt3r7+///z588EXI5m3QHBERISDg0NqauquXbtWrlwJVieBt++5ouY1xr9G+FcA/xYgXlWYhrEBPdgTrARc4PP5u3btUg/iT58+rZ4U3xNHKAzEUwM6OZYG4iExmIQMDw+XSCSxsbGzZs1KSUmhvA0vlUqLiopCQkLMzc0HDhwYFhZGsIOIAAsEcCcnJ3Nz82fPnrHZbAsLi3nz5lEaXQEDZM7Ozvb29o2NjUVFRVOnTt2yZUt7ezsBswBoMjMzJ06cCF4RUlNTZ86cGRsbi1TefQfiMQy7cePGzz//7OHhIRaL09LSZs2aFRUVBXdTEa8gIJVKy8vLIyIibG1tBw0a5OHhIU8jD7e9goODly9fXlpaKhAItm3bNmPGDGQBGF8yhmHt7e0BAQEWFhZPnjyprq6eN2+eqakp+YsKoOTOnTvTpk0LDg4WiUQ5OTk6OjrBwcF8Ph+08+85xCM5HuE6CnSZyiY77CbPJohRT1GjKkxDP0K/9AQrgeaeQPyFCxemT5+emJiINmnkcQZ9uMDXdk8coTAQT8PkN14phPidO3d+/fXXaWlpYBHeyMho27ZtlA6yO09QPXny5NGjR6dOnRozZkxoaCglxMOgLC0tnTNnDthK7ER8Z2fnn3/+mdKmDUDh6NGjg4KCgPQVK1YMHToUzFLiAQtGWHh4+KhRo65cuYJhWHV19dq1a21tbcHoSl8zQxYTE/PVV1+B6/OGhgZLS8v169dTOsiWSCTV1dUPHjy4cuXKH3/8AWaECSscsALDsJqamkWLFoGkj2FYcHDwsGHDKB37YRj24MGDiRMnOjo6wgJpb28/YMCAixcv4mcjcluRmJg4cuRIsEvM4XDs7e2R95UPwYABQPprYIdzNC9dt778p8SpGvUgXlWYRiNfDed8b0BA94N6EA/u3Y8dO6ahoREREcFiscA5BA3WI7JhvKntCIWBeHInUscohHh3d/cpU6aAfWBwCTJ79mzQ7aLewgcwDMvOzgYzh5QQD1178uTJQYMGgXtuqVQaEBAwceJEMsTDepCRkfHvf/87ODgY2mBqavrxxx+DcXl81WC3ICgoaM6cOaDx4PF4VlZWs2bNgu+Dvgbx+/btGz9+PChGBAKBvb39+PHjgVSyngQOHRcXF0+aNEkexAO7srOzhw4diuzFHzp0aNy4cfIg/ubNm/3797e3t4d+cXd3/9vf/nbs2DGC7h7exsTEzJgxA9kl9vLymjBhAjqD8b5L8S9FdbzXp9eT5k+U4tUTadHI7yFWQhNFIhFMHJCcXrebNiQSiTZv3jxr1qwvvvhi2rRptra24PRRGYhHJo8iIyMtLCwcHR0DAwPBHQIa/DSVMxBPw5w3XtFDvEgksre3X7hwYXl5ORyuWrZs2a+//lpZWUmQ8mDAwWi7fPkyjRQPaQ4dOvSf//zn8OHDoHCIioqi9N0KmJWent6vX7+QkBAg3dTU9JNPPiFDPDi59vLyWrZsGbip4vP569at65HvVjSTXgWA/jeYKOcBbQhDFoK9eJlM5uvrO3fu3Pz8fKDc1taW0ncr1AysKCwspJHiEbv69++/a9cuoCspKUlbWzs1NZW84mIYdvPmza+//trZ2RmIdHNz+/vf/06GeNjdDQ0NNTAwQBsh4LsVTNh/CFI8YDy1E+4/F+KB+SqJtK/GY9d/2CZRDyvhiER9fb27u/ukSZPgLIOSgxz26jod/7a3t7e2tra0tCi8/YQnG9m/UsMRCgPxclCHFC0P4qGPO8/nbdy4cfXq1dXV1ch3Kw3EA8QoA/Hg2A+55z548CCl71YoMCMj45tvvomKioL1wNTU9NNPP6WEeC6X6+zsjLQH4Lt1zJgxINT3KSm+c3vA3d190aJFILaD79Zvv/2W0hw/TAwMw5SEeIJ7bh0dHUr33ADxgwcP9vb2hv12eRAPSiE/P7+lS5cizy1ubm4//vhjL/puJQ3P9zJCVUUNdK6qMN1bWAl7XaampuPGjfvqq690dXWDgoKQl7Re7wAC2fg7GWQzfDS1MxBPw5w3XsmDeMBWkUi0detWAwODsrIygPjVq1dPnTq1qqqKUopXFeKR79bw8PCZM2eSfbdCgenp6Z9//vm+ffsA4k1MTD7++GPQtuNHDMjCnp6eS5YsASmex+NZWlpOnToV3dnrO9utIMVra2vDt61AINiyZcsvv/wCpKJvVUIDlYF4OCWNfLceP35cU1OT0ncrQPw333zj5uYGi7qrq+vf/va3hIQEgqIGdnFDQkL09fXh6LRYLPb09Pztt99AvfZhSPFvzA11H9SDeFVFWvzAgDAs0jBHCOOHvilSqZTD4bS1tbW3t7e0tHC5XCWlePpiKd+SyUaG7civKEuASAbiaZjzxit6iO/8iHNzcxs1alROTg54T92wYYOFhUVzczMNxF+5ckWhLj4lJeW7774DXbxEIgEPUGTfrQjiP/nkk927dwPpJiYm/fv3B19O+GEB7ocCAgImTZoEMNTS0rJlyxZTU1PwJ96npHgMw/bt2zdixAhQoXC5XCcnp+XLl5Ndn6M2YhhWUFAwceLEThciMJPRKwgAu3JycoYNG4Z08VFRUWPGjElKSpKnqPniiy8cHR0BIFxdXf/5z3+CyI8vHOY8qPUzMjJgNfXx8Vm8eDH4E2cgHs0rtSFeJZEW3zsoLM9kBaLtnQcQqcoEaKhlIJ6GOW+8Ugjx/v7+/fr1g826goICIyOj6OhokUiEFM34rgIgyM3N/e233+DQJDkZpHnw4IGWlpaPjw/gspub29SpU0GexQsggFnXrl378ccffX19QW+4ePHimTNnkr8kYJPnwIEDQ4cOBRgqLy9fs2ZNcHAw3J7taxDfeT+rX79+wKgnT56Ym5v7+/vLc7oCrCgpKUEQT15lIU1NTc3ChQttbW1BMbp79+4JEyaAE13U3dBrGIbdv3//t99+27x5M/TLxo0bx44dW1RURCgc3iYnJ//www+wg9LQ0GBra+vh4QHutxiIR/OqJxCvvEiLn3cKw4i2DybAQLyyXYnmPPnqExRx9erVMWPGODg4VFRUBAYGLlmyBO22kQdWe3t7TU3N/v37P//8cysrq6qqKsrrmuBmz8PDQ1NT8/z583fu3Fm/fr2Liwv5ODYcNqirq7OysjI2Ni4sLDx37tyMGTMOHDgAawOeBoChvLw8LS2tTjezZWVlkZGRhoaGsB8Ib/uOogbDsHv37k2aNMnc3Pzhw4fR0dEGBgawMqFOwbeuc1+htrb2+PHj33zzzbJlyyoqKuCDGp8GiYHh4eETJ048fvz4/fv3bW1t7ezsnj59SkBt4C2Hw3F2dl68eHFubu6NGze0tbV37tyJLBOgwtECo6ura2NjU1pampSUZGBgcPLkSTARwUA8mnI9hHjEc0IAlc8EQKOAjtipypCPVM3wXqdHaEKGeDiDyOfzIyMj165dGxAQsG3btqioKBaLRXkiWyqV1tbWJicnb9q06ffff1+9enVCQkJdXR0ZWQAvCgsL165d6+Dg0Kk19vDwuHPnjkwmQ/Sg8Q0IcunSpQ0bNuzYsaPzBLerqytZhIf0MpmMx+MdOnTIwsIiKCjIzc0tLCysqakJ+T/qOxAPLU1ISFi7dq2vr6+bm9uePXtqa2vl8bapqSktLc3JyWn8+PGLFi2KiYmRd64J/Gjb2NjY2trCRd+cnBxkqwcxFk67y2SyW7duWVtbe3h4uLu729vbwzYG/lsKsoDHtZMnT1pYWPj5+Xl5efn7+yPTCAzEIxxQHuJRlvcoAJJBzwnGj0M0wFCxhOGH4lGAkeIRKxQEEKRSQjxgMYvFunTpUmpqam5ublNTkzyvQxKJhMVi3bp1KyMj4+zZs+fOncvLy2Oz2ZSYBb6eS0tLU1NT09LSiouLKa0XoL5vbW3Ny8s7ceLE2bNnKysr5dEAt1ibm5svX76cmpqalZXV0NAA+A5t6TsQD1MFTD6kpKRcvXq1trYWvm/Iox+MQ+Tn5587d+7s2bMZGRk5OTmdB90oeQv3YysrK8+cOXP69OmCggLkwJZcMniiuH379smTJ0+dOvXo0SMaS3NgHyInJyc1NTUzM7OmpgYRzEA8mmn37t2Lj48HT6Qo8oMJ9BziCYNQJV9XiI319fWMFI+4QRegh3hkoFEikfD5fPh+Jyyw+A4TiURCoRDUBRKJRNT9wyfAh2FR6ejoEAgEZK0LPiUUKJVKuVxuR0cH4bAHISUMQbFYzOPxQBkNBPdBiAdSpVIpn8/Hk0puEcQg3orFYnreQmOFQiFYFyDviOCrAAGfx+Px+Xzyliw+JQwAMsFQ3ft/9Ylupij/rqKi4ujRo3CLR/lcsC9y+/btqqoqmBoq5VU+MaFDkXIPSiDMbnKxPcxO+KZX1dcVoqeiogLuz6MY5QOMomawl5cXiMOoOwEF0HqA4skBEM/RX3ICfAzIm/JEcnxKpFVQJjHIoWBIBw3Zvgnx0C4CqYSGo0fEVQigeMoAYgLiAGUyiISOQCI5TUpEMD4xA/F4fKmrqzt27NjDhw/xkfLCZFbj8Z3Qd/IKUSmeUKOqQnQPs+MhHoaNSr6uUEsLCwtjYmLQo0oBBuIpIJ7Qr+/jY5+F+PeRmQSaP1yI77rU+vq3ruu0qMJfW1tbQkKCkpYACJxUFXARMVwut6ysDLadUCRlAF+jGkJ0D7PjIV4NX1eoRbm5uWArCcUoH2AgnoF4/DAmhuFkjjLjCalHIAvBgAGx3Pf5+cOGeOWA/fWIkEgkSUlJcJXkdaycEL7b1QBcVGpsbKyurq6/v79AIECRlAFUo3pCdA+zI4hHY0YlX1eoRSkpKehaNYpUMsBAPAPxaBhTBBiIJzMFTdcPzutTlxSvKsRjGJaTk3Pq1Kn29naFoIOYqR7gQvnPnj3bsGHDkCFDli9frtC/NqpRPSG6h9kJEK+qryvEz0OHDj169Ag9qhRgIJ4C4gHX4CsS9bG8ACgTkQwrLxns5cJ9Jbxilz69MvsBaAcJTzBMoT51ogZaqgZvKQ/SEPiGTOQr0xHQFyrxFr8x+wFAPLIW3wUWXcAOVoPxihol7Ai/QprKysrjx4+jO9Wvoin+o15TD3DhknNSUtLp06fnzZtnbGyscF2BGlGXqSpE9zA7AeLVdkkYHR2tcDGjYHd3FAPxb0A8DAWBQNB5m7GlpYXmRB3aiGtra6uvr4fjGYT9IjSg0ambTn8gjY2NQqGQHrYAsGQymVAoFIlE+HLIYbCgXV9fz+Fw0HnwvgnxGIYJhcLGxsbOK0jAQHJzIAZ2RHk8Xn19PbhDoeetVCptaWlpaGgQCAT0K6iqvBUKhQ0NDSwWC0hCx67e8xM1VF6fcCDRDfbKCvQymSwzM1MZQR51Lpw6VRVw4b53YWEhi8XS09MzNjZGF7lxtL8RxNeohhDdw+wEiFfV1xW0RCAQgO3bNxqm9AMD8a8hHmCxubk5IyPj0KFDx44dKykpAZ/d0NP4v4D+VVVVZ8+ejYqKSk5OpvRuAVngSOWtW7eOHz9+6NChCxcutLa20qC8TCbr6Oi4devWzZs3+Xy+PHkT0Kq5ufncuXMxMTFHjx4tKioSiURwDqdPGTBA5+IzMzNjYmKOHDlSUFDQ0dFB2TQA09ra2vPnzx88eBBJiJQoD4ZKioqKTpw4cejQobNnz4JNIcrE6CJrYWFhdnZ2W1sbJQHQaxiGtba2Xr58OTY2Ni4u7vbt24jgD+Bc/CuMl6ecefVeOShpbm6OiIhQeK4GGAsTTQ3ARbQ0Njbq6OisXr1aJYhXQ4jGE6xGdgLEq+rrCtqbm5uLP3eEmKBkgIH41xAvk8n4fP6+ffvs7e0PHz5sZ2fn4uIiz06WTCarqqoKCAjw8fGJiYlZsWKFr68v2f0eEvru3LljaWkZHBy8b98+S0vLlJQUoVAoT6vQ0NBw6tSphQsXenh40CwG4IYmOjraxcUlPj7eycnJ3t4eFnzQh/QdRQ1I1rGxsZs3b46Jidm2bZudnR0YFoZZhP8rk8kaGxvDwsI8PT3j4uLMzMycnZ3h+AQ+GYQxDCsrK7Ozs9u5c2d0dLSFhUVcXByXy6VcQcViMZvNvnDhgpGR0caNGxsbGymTwVeXSCRKSEjYtm1bbGysp6enlZXVvXv3QGPzAUB8t35mXYY8hO+KV0FXg2FYenp6QkICveYEugwgXj3EBFxraGhQA+LVEKLxBKuRnQDxqvq6wjCMy+X6+/srieaUyRiIfwnxwJ2srKzRo0f7+vry+fzw8PBZs2ZR2lGBMZqSkjJr1qz4+Hg+n79mzZrBgwffunULdSoCIzgG7uXltXTp0uLi4pqaGlNT0yVLljx+/JgyMZfLzczMdHJy+u6779asWdPW1kZOBloODMPy8vI0NTVDQ0Pb29uPHj2qpaV17NgxiUQCSv++A/EYhhUVFU2YMGHz5s08Hi8xMVFLSysuLg6Yg3iFVsScnJw5c+aEhIQIBAJnZ+cBAwacPn2azAeQbiIiIvT19a9du8Zms21tbXV1dcHxCEGQl0qlAoEgLy9v+/btI0aMmDdvnrwPL+jf0tJSHR0dT0/P1tbWCxcuzJw5Mzw8HJRsHwLEgw4e5/UpY91rTO+S4V8/UUIHMbK9vT0kJAQZWya+7n7uOWJCsepBvBpCNJ5gNbLjR6x6LgmPHj0KLmso+alMJAPxb0C8v7//N998c+bMGbh9t2zZMk9PT7JICNJ3cHAw8nERGxs7cODAo0ePEi6jAliUl5fPnTsXWaN0dnb+5ZdfcnNzCYlBeGxpacnPz8/IyDA0NNy4cWNLSwt+oCA0RJYmR40aBQeqKisrjY2NHRwcQFPRpxQ1GIYdOXLkq6++Alcn1dXVa9assbW1bW5uJsjR4HEpLi5OX18fvOilpaUNHjwYLMITUBvDsPr6+hUrVri7uwPcBwcHDx8+nNIliFQqbW9vLywsvHjxorGx8fLlyyltCqHlMzk5+eeff05MTMQwrHP/wMbGZv369WhT8T3XxXeBQ7fCHXeEpgvXX/1UxHfAmkePHiHD/ZTo03PEhGKbmprmzZtnYmICe2AQCTOCUC++RjWE6B5mx89c+LBWyddVdnZ2YGAg/YcRob3kRwbi34B4Dw+P8ePHg3XJ5uZmExMTfX19cAqDsBXUyo2Njba2tg4ODuC8u7i4WFNTEy7K4tUv0K9nzpwZMmQI8t3q6+s7fvx4sksQkGE7OjpEIlF9fb25ubm1tTUNxMtksuDgYC0tLbBLDF6rdHV10fmqPiXFh4eHjxkzJj09HcQZe3v7qVOnAql43spkMi6X6+bmZmlpCRD85MmT+fPnW1lZge0HlBiWz05jPiNHjsTbi9fQ0KD03SoWi4Xdv5aWFkdHxxUrVtBDfGxs7JQpU8DZrEgk8vLymjZtGnyofRBSPBkNehojk8kuX76MvMOTi+s5YkKZbDZbT0/PzMwMudaD42TyaoQ5y+fzLS0tDQ0Nod/9/Pxmz56dl5eHJK2eZycrzdFwBQGuo6NDSZeEJSUl7u7uYH2PTJjyMQzEv4Z4sVjs4OCAvD5xOJzly5draGiQLdN2SUAVFbq6up6ennD5gsPhLFq0yNzcHM42oX4FiCc49jtw4IC2tjYlxENGEBvXrFlDA/FwOsXb23vp0qXI69P69et///13dNWwT0F8QEAA3uuTnZ3dkCFDkNs8xDFo+/Lly+3s7GD55PP569evNzQ0JOhVAOLPnTuHd+yXmJg4a9YsSike8ZbL5W7dupUG4sHrU2ho6Pz585HXJw8PjxEjRly+fBlm1wcgxSsPEyqlPHfunLe3d0VFBQx+fF58L6sBuFBUWVmZo6PjwIEDhw0btn379vPnz0NFMB7w1akhRBM+BRDBUIVKMjhQgkqAAJQvz31r9qvfjh077t27RyCG0DQlHxmIf+3Js729fePGjcbGxmAzlsPhLFmy5JdffiGYsYWRVFpaOnny5O3bt4OlsLa2tiVLlqxevRpQCfUrJcQfOnRIV1cXtJYEzQNkBP2DqakpPcS3tbVt27bN1NQU1Po8Hm/t2rW//fYb8t2al5c3bNgwBwcHEHYQVcoHyLNU3sBC3y6Q5cKFCyNHjrS2tkaW1MB3K6xGAoHAxsZm0KBBZN+tGIbV1tZqa2vb2NjAPoRQKLS0tNTV1SV8TkFHpKenf/nll+BBBcOw5ORkeb5bEW9bW1s796VpIF4mk4lEIj8/v2XLlsEWa+chHzc3t6FDhyL33KWlpe/v1Sd5ndhb8Z1Oyjw8PNLS0lpbW/GCLRp4aiMmhmH5+flLly5dvnx5pyOBlStXRkdHQ2mUgIhqVFWIBlaolF0hAVAaYgj+Igu82vXqB2Jlr3THXxrijx49OmjQIC8vL+gboVC4efPmJUuWAKaz2eyVK1dOmDCBUop/+PChlpYWgngWi7V48WIrKytQDqKRAYMvJiamX79+yD13RETEnDlzFEK8mZkZPcR3fkB4eHisWLEC1B18Pn/Dhg1//PEHuDGCzdihQ4fa29u/fYg/f/78jz/+CNoVGKk+Pj66uroFBQVw7WXz5s0jRowAUvHrHIZhdXV18+fPt7GxgfWy83T8+vXrly5dSvCwiCC+f//+COITExNnzpxJL8UrhHjYBN69e7eBgQFyzrV9+/ZRo0bBtxeGYaWlpWPGjDEyMpK3Hw5jgFK07JWp28cLqa+vP3jwYEhIyO3bt3k8HiAsmhfqAS5NkynhFS/FQ9WQTJ4QjcAXVYQnGE7cYhgmLzvKRQ4QyoFHeY4JFZ4EJZdPE/OXhvjjx49/++23JiYmV65cKSgo4PF4np6e/7+9839p6vvj+L8Q/RgE/WIEUUEkGUZf6AehhPxCP2WQiqRFaOlaTtCCcuGybTd15rbmqHVrNbL8wZY5XDLFUc00WNpyZQtyIvfONWfE2lt6fd6Hce92vTb10957+UPd3Xvu677u45zzPOeer5mZmdDL5/f7F7vXiouLp6enOWkFaprFxcXV1dXQVu52u3NycpRKJWehYJD4Bw8ebNiwAdrif/36pVAo9uzZw9+7laQDqMWXlJQQmSOXyAHsYaJQKA4cOAAyFAwGq6urT5w4MTw87HQ6BwYGKIrauHHjxYsX117iYY2ao0ePWq1Wp9MZCoU0Gs2OHTu6u7uj0eji0se1tbUFBQWwCC15KTJ8vqqqqqysDFYhn5qaKiwshA1XybcCGXtjs9k2bdpE2uJv376dmZkZd+9WeAqMdq+pqTl+/Di0Gsc+HY4h1vR6fXZ2NmmLl8vl+fn5L1++fPXqlcPhMBgMmzdvFhjyBKbSVuJBdN68edPZ2WkymXp7e10uFwe1sOAKyJb4S5wnQtECt/Mr0fxyYlm3C3jFtyNwRsDOH1xKX4mPRCJDQ0OVlZVSqZSiKJqmGYZRKBTr16+HLaTfvXtXUlLS3t7On4wK804bGxvz8vJgv2aTybRlyxaLxcIpDCCHj4yM7N+/X61Ww/S8+vr6rKwsKEhiK7Ak1qPRqN/vB4mHIp1cIgeQHFtaWjIyMkCGJicnKyoqFuueb9++NRgMLS0tjY2Np06dslgsZMoPuV3kAYidmIRFxBcmZI2NjUml0nPnzqlUKqPRODMzYzKZ1q1b19bWFo1Gv3z5cubMGblczt++A+ZtabXaw4cPQ1dYT0/P1q1bKYoi3WLE+Wg0Ojk5mZubK5PJoAqmUql27twJBUkitsFgECQe9lbkB4NYo2madJLPzMxIJJJLly6Njo6aTKbW1tampqby8nKDwQCL1BOXOAdpLvEQZTab7e7du1qtlgNHWHDFpLolw/CfCJUDfqRD9YJvkG8hUe2bf6/wGaVSqVarYXKfw+FYpW1V0lTiIZLm5ubgm8vtdsPmSt3d3RkZGVevXmUY5tatW4WFhTC0kTMHEoTv/v372dnZBoOBYZiKioqsrKyxsTGOxIO2/vjxQyKR5Obmulwuj8dz+vTpyspKaPHnJyA4MzIycuTIkWPHjrnd7rm5OdgfIzYw+PD8+fPdu3c3NzfPzs7eu3cvPz//2bNnoVDI4/G43e7x8fFPnz4xDAPJOvZ2kcd/IPHwLNh8FdzweDw/f/4cGhratm1bVVXV7Oys2WzOy8vr6uqKXfsFXAJN7Ovr27t3740bNxZHrNbX12/fvt1ms8VlG4lErl+/fvDgwf7+/q9fv0okEtgelh+Y2J+YmCgqKjp06NDr169Zlg2Hwxwa4IPT6dy3b19dXd309LTVai0oKKBpOhQKeb1eYOv1emdnZxPNfyaPE86HtiGDAAAElElEQVTnaXI1EonwORNE4gV3ubg4MSv8M65x4Vtir8a9XeAkwzDBYHBhYUEgTPKX0lTiIWJi9QsqxSzLXrt27eTJkzdv3qypqWlqakq0n1w0Gn3//r1UKj1//nxbW1tpaWlnZydZxiQ24kEv7HZ7fn5+XV2dSqW6cOHCwMBA3L1bYV2Ejx8/UhS17/efUqm02+0Mw3DGj0PhwbJsc3NzWVlZa2urTCa7cuUKlByxKYPUr2O9EnkciyjWJv+Y8xR+7XV+fr6lpaWoqEilUtXW1jY0NECfByd7w0fA4ls0NDScPXtWo9GUl5dTFBV3K0R4yujoKIzAaWtrq6mpsVqt/JZfKHgikYjP59PpdDk5Obt27ZLL5b29vfyx+aSlWKvVlpaWqtXqy5cvy2Qy/lIh/EjhgOVz4KNLnzMcOMI/0wfLqr5pWks8+WSDSj3kRp/PR9O0Vqt98uSJz+dLtKYVqPn4+DhN03q9vqenR6DbDT4CBgcHYSUZh8OxOPSbo4mQ3EHiP3z4QNO0RqOhKMpoNNrt9kTLGEDnj9ls1uv1jx8//vz5M5Qc5I04AiqcqfhX/1jiOWzJZAKLxdLR0WGxWAT2pIXSy+v1Pnz4UKfTPX36lNPRGusnRITL5TIajXfu3Onv72cYRoDt1NTUo0eP2tvbKYoyGAwvXrwQWBrB7/d3dXXpdDqz2TwxMQH7Ty2LLUr8quoXGl+SQLpLfKxYgCrBBz7LstAELyCRsE5AKBQKBALQEMyxFvsTAnz//h3WsYmrQST8/Px8IBD4/vsv8PtvYWEhkSfQ3Lk4nYcMTyR2kj9IRuL5TwdXWZZdcmFOqMuHw2GWZeE40euTyagkIoRr1mAzGAxCeGioSWQc2pEYhgGHOe11/Bfkn0GJX1KDMMCqEkCJ5+ZKqBVCv2iinE8WGQaV54yi4Vr89zfIZdz2mX+D/O9/EDUYM7PkTqfgMPiQyGGOffE/V1bixbhK2JKI4I984PsvPiKID4BXeHdcEhH8tXT4PsQ9gxK/qvqFxpckgBIfN2MKnSSZdsX1VOip/6drKyvxYl4COkX+oL4sxvjahyGpZcmsiAGQwGoQQIlfXq6H1tjBwcHOzs5AICDcJrA8039l6LWUeNjPZGRkpKOj49u3b/8NtijxqyFbaFM8AZT45SkrfNf39fWpVKpEC4Qtz+LfHXotJR6aUIaHhxUKBWetgr8bkpB3KPHixQhDrgaB9JL4lWpaCYfDwWBQKGf/V66tpcQDs3A4HHceQIoSRYlfDdlCm+IJpJfEQ6cZNLYk8y9pL07GSErcy1+1I1Hagm7k5F8K2K5UTCXvT5IWxANMBBbPI4FkCKSXxCdDCu9FAkgACaQcAZT4lIsydBgJIAEkIJYASrxYUhgOCSABJJByBFDiUy7K0GEkgASQgFgCKPFiSWE4JIAEkEDKEUCJT7koQ4eRABJAAmIJoMSLJYXhkAASQAIpRwAlPuWiDB1GAkgACYglgBIvlhSGQwJIAAmkHAGU+JSLMnQYCSABJCCWAEq8WFIYDgkgASSQcgRQ4lMuytBhJIAEkIBYAv8ArjDK6hN6EkEAAAAASUVORK5CYII=)"
      ],
      "metadata": {
        "id": "_t5dA2ZkmMKC"
      }
    },
    {
      "cell_type": "markdown",
      "source": [
        "In the resultant matrix, the value in the first row and the third column is 1. This represents that there is one path of length 2 between the vertices V1 and V3 and the path is:\n",
        "\n",
        "V1 -> V2 -> V3\n",
        "\n",
        "In the resultant matrix, the value in the first row and the fourth column is 2. This represents that there are two different paths of length 2 between the vertices V1 and V4, i.e.\n",
        "\n",
        "V1 -> V2 -> V4\n",
        "\n",
        "V1 -> V5 -> V4\n",
        "\n",
        "The other non-zero values of the resultant matrix can be interpreted in similar manner."
      ],
      "metadata": {
        "id": "ywih0JeNmPam"
      }
    },
    {
      "cell_type": "markdown",
      "source": [
        "**Permutation Matrix**\n",
        "\n",
        "Permutation matrix is obtained by permuting (or interchanging) the rows or columns of an Identity matrix.\n",
        "\n",
        "The number of permutation matrices depends on the order of the identity matrix. For an identity matrix of order 3, there are six different permutation matrices (I123, I132, I213, I231, I312, I321 ). For an identity matrix of order n, there are n! (factorial of n) different permutation matrices."
      ],
      "metadata": {
        "id": "LIQeiQlSm1JI"
      }
    },
    {
      "cell_type": "code",
      "source": [
        "import numpy as np\n",
        "\n",
        "A = np.array([[1, 4, 7],\n",
        "            [2, 5, 8],\n",
        "            [3, 6, 9]])\n",
        "print(\"\\nMatrix A \\n\",A)\n",
        "print(\"Shape of  A \\n\",A.shape)\n",
        "identity_matrix_2 = np.eye(3)\n",
        "print(\"\\nIdentity_matrix \\n\",identity_matrix_2)\n"
      ],
      "metadata": {
        "colab": {
          "base_uri": "https://localhost:8080/"
        },
        "id": "HkS6p9NQk0AT",
        "outputId": "1f90e7fd-e177-47d7-c622-d13927873804"
      },
      "execution_count": 40,
      "outputs": [
        {
          "output_type": "stream",
          "name": "stdout",
          "text": [
            "\n",
            "Matrix A \n",
            " [[1 4 7]\n",
            " [2 5 8]\n",
            " [3 6 9]]\n",
            "Shape of  A \n",
            " (3, 3)\n",
            "\n",
            "Identity_matrix \n",
            " [[1. 0. 0.]\n",
            " [0. 1. 0.]\n",
            " [0. 0. 1.]]\n"
          ]
        }
      ]
    },
    {
      "cell_type": "markdown",
      "source": [
        "**Determinant**\n",
        "\n",
        "The Determinant of a square matrix is a scalar value computed from its elements.\n",
        "\n",
        "A = [[p,q],[r,s]]\n",
        "\n",
        "Determinant of A (|A|) is:  |A| = p * s – q * r\n",
        "\n",
        "For a square B matrix of order 3:\n",
        "\n",
        "B =[[a, b, c],\n",
        "   [d,e,f],\n",
        "   [g,h,i]]\n",
        "\n",
        "   Determinant of B (|B|) is = aei + bfg + cdh -ceg -bdi -afh\n",
        "\n",
        "   If the Determinant of a matrix is 0 then the matrix is called a Singular matrix."
      ],
      "metadata": {
        "id": "vA_9CYqY6trr"
      }
    },
    {
      "cell_type": "code",
      "source": [
        "import numpy as np\n",
        "matrix = np.array([[10, 2],\n",
        "                  [5, 2]])\n",
        "print(np.linalg.det(matrix))\n"
      ],
      "metadata": {
        "colab": {
          "base_uri": "https://localhost:8080/"
        },
        "id": "JDfSQIwT74fn",
        "outputId": "a0363da0-da6a-4fc3-b22d-850e79229809"
      },
      "execution_count": 41,
      "outputs": [
        {
          "output_type": "stream",
          "name": "stdout",
          "text": [
            "10.000000000000002\n"
          ]
        }
      ]
    },
    {
      "cell_type": "markdown",
      "source": [
        "**Matrix Inversion**\n",
        "\n",
        "The inverse of Matrix is the matrix that on multiplying with the original matrix results in an identity matrix.\n",
        "\n",
        "Consider the matrices A and B of dimension (n, n). Let *I* be the identity matrix of order n.\n",
        "\n",
        "If A * B = B * A = *I*\n",
        "\n",
        "then B is called the inverse of A and is denoted as A^(-1) .\n",
        "\n",
        "AA^(-1)  = A^(-1)A = *I*"
      ],
      "metadata": {
        "id": "xFS_9BRf8FVE"
      }
    },
    {
      "cell_type": "code",
      "source": [
        "import numpy as np\n",
        "\n",
        "A = np.array([[1, 2],[4, 5]])\n",
        "print(\"Matrix A:\\n\", A)\n",
        "\n",
        "# Finding the inverse matrix using np.linalg.inv() function\n",
        "Ainv = np.linalg.inv(A)\n",
        "print('The inverse of A is:\\n', Ainv)\n",
        "print(\"Multiplication of A and Ainv is:\\n\", np.matmul(A, Ainv))\n",
        "print(np.round(np.matmul(A, Ainv)))\n"
      ],
      "metadata": {
        "colab": {
          "base_uri": "https://localhost:8080/"
        },
        "id": "Z5CqFmzZ_bmd",
        "outputId": "18d5b095-b77c-49ec-a22a-0499c6934d5f"
      },
      "execution_count": 42,
      "outputs": [
        {
          "output_type": "stream",
          "name": "stdout",
          "text": [
            "Matrix A:\n",
            " [[1 2]\n",
            " [4 5]]\n",
            "The inverse of A is:\n",
            " [[-1.66666667  0.66666667]\n",
            " [ 1.33333333 -0.33333333]]\n",
            "Multiplication of A and Ainv is:\n",
            " [[1.00000000e+00 0.00000000e+00]\n",
            " [2.22044605e-16 1.00000000e+00]]\n",
            "[[1. 0.]\n",
            " [0. 1.]]\n"
          ]
        }
      ]
    },
    {
      "cell_type": "markdown",
      "source": [
        "**Orthogonal Matrix**\n",
        "\n",
        "Orthogonal matrix is a real square matrix whose product, with its transpose, gives an identity matrix.\n",
        "\n",
        "When two vectors are said to be orthogonal, it means that they are **perpendicular** to each other. When these vectors are represented in matrix form, then their product gives a square matrix. A square matrix is said to be orthogonal when it comprises real elements and its transpose is equal to its inverse. In other words, when the product of the real square matrix and its transpose is equal to an identity matrix, the real square matrix is said to be an orthogonal matrix.\n",
        "\n",
        "A = Sqaure Matrix,\n",
        "A(T) =  Transpose Matrix of A\n",
        "A^(-1) = Inverse Matrix of A\n",
        "\n",
        "Square matrix A is said to be orthogonal if:\n",
        "          \n",
        "          A(T) == A^(-1)\n",
        "          AA(T) ==  A(T)A = Identity Matrix\n",
        "\n",
        "\n",
        "The important properties of orthogonal matrix are listed below:\n",
        "\n",
        "* An orthogonal matrix is a real square matrix, this means that all the elements of an orthogonal matrix are real numbers.\n",
        "* All orthogonal matrices are invertible.\n",
        "* The determinant of an orthogonal matrix is +1 or −1.\n",
        "* All orthogonal matrices are square matrices, but all square matrices are not orthogonal matrices.\n",
        "* The inverse of an orthogonal matrix is also an orthogonal matrix.\n",
        "* All identity matrices are orthogonal matrices.\n",
        "* The product of orthogonal matrices is an orthogonal matrix.\n",
        "* All orthogonal matrices of the order n×n are collectively known as an orthogonal group, which is denoted by O.\n",
        "* The transpose of an orthogonal matrix is also an orthogonal matrix.\n",
        "* All orthogonal matrices are symmetric.\n",
        "* For an orthogonal matrix, its inverse and transpose are equal.\n",
        "* The rank of any orthogonal matrix is full rank.\n",
        "  \n"
      ],
      "metadata": {
        "id": "qUwOHmdA_8mf"
      }
    },
    {
      "cell_type": "code",
      "source": [
        "import numpy as np\n",
        "A = np.array([[1.0,0.0],\n",
        "                [0.0,1.0]])\n",
        "\n",
        "print(\"A:\\n\", A)\n",
        "\n",
        "#Checking for A.AT=AT.A\n",
        "print(\"Transpose of A: \\n\", A.transpose())\n",
        "print(\"Calculate AT.A: \\n\", np.dot(A.transpose(),A))\n",
        "print(\"Calculate A.AT: \\n\", np.dot(A,A.transpose()))\n",
        "\n",
        "comparison_1 = np.dot(A.transpose(),A) == np.dot(A,A.transpose())\n",
        "print(\"Check if A.AT=AT.A : \\n\", comparison_1)\n",
        "\n",
        "#Checking for A.AT=Identity Matrix\n",
        "comparison_2 =  np.dot(A.transpose(),A)== np.eye(2)\n",
        "print(\"Check if A.AT=Identity Matrix: \\n\",comparison_2)\n",
        "\n",
        "# Comparing both the comparison done earlier\n",
        "comparison_3 = comparison_1 == comparison_2\n",
        "\n",
        "#Checking if all elements of matrix comparision are true.\n",
        "equal_arrays = comparison_3.all()\n",
        "\n",
        "print(\"A it an orthogonal matrix: \",equal_arrays)\n"
      ],
      "metadata": {
        "colab": {
          "base_uri": "https://localhost:8080/"
        },
        "id": "eZ_p7IIQ_wpg",
        "outputId": "74234337-f091-4e52-ecbb-9c1866fc3b1c"
      },
      "execution_count": 43,
      "outputs": [
        {
          "output_type": "stream",
          "name": "stdout",
          "text": [
            "A:\n",
            " [[1. 0.]\n",
            " [0. 1.]]\n",
            "Transpose of A: \n",
            " [[1. 0.]\n",
            " [0. 1.]]\n",
            "Calculate AT.A: \n",
            " [[1. 0.]\n",
            " [0. 1.]]\n",
            "Calculate A.AT: \n",
            " [[1. 0.]\n",
            " [0. 1.]]\n",
            "Check if A.AT=AT.A : \n",
            " [[ True  True]\n",
            " [ True  True]]\n",
            "Check if A.AT=Identity Matrix: \n",
            " [[ True  True]\n",
            " [ True  True]]\n",
            "A it an orthogonal matrix:  True\n"
          ]
        }
      ]
    },
    {
      "cell_type": "markdown",
      "source": [
        "**Linear Dependence**\n",
        "\n",
        "Consider the vectors v1, v2, …., vk  and scalars c1, c2, …., ck. The vectors are linearly dependent if and only if,\n",
        "\n",
        "      c1v1+c2v2+.....cnvn = 0\n",
        "\n",
        "      and at least one of the scalars c1, c2, … ck is non-zero.\n",
        "      "
      ],
      "metadata": {
        "id": "GQXccNiDEnGx"
      }
    },
    {
      "cell_type": "markdown",
      "source": [
        "**Rank of a Matrix**\n",
        "\n",
        "The rank of matrix A of dimension (m, n) is the number of linearly independent rows (or columns) of A. Rank of a non-zero matrix is always greater than 0 (a strictly positive integer).\n",
        "\n",
        "If A is a matrix of dimension (m, n), then\n",
        "\n",
        "    Rank A ≤ min(m, n)\n",
        "    If Rank(A) = min(m, n)\n",
        "    then A is called a full rank matrix."
      ],
      "metadata": {
        "id": "33DKg5qkFRXo"
      }
    },
    {
      "cell_type": "code",
      "source": [
        "import numpy as np\n",
        "\n",
        "A = np.array([[1,1.0],[3,3]])\n",
        "print('The matrix A is:\\n', A)\n",
        "B = np.eye(4)\n",
        "print('The matrix B is:\\n', B)\n",
        "\n",
        "# Finding the rank of matrix a using np.linalg.matrix_rank() function\n",
        "print(\" Rank of A is:\",np.linalg.matrix_rank(A))\n",
        "# Finding the rank of matrix b using np.linalg.matrix_rank() function\n",
        "print(\" Rank of B is:\",np.linalg.matrix_rank(B))\n",
        "\n",
        "c = np.array([[2,1,4],[4,6,8]])\n",
        "print('The matrix C is:\\n', c)\n",
        "print(\" Rank of C is:\",np.linalg.matrix_rank(c))\n",
        "\n"
      ],
      "metadata": {
        "colab": {
          "base_uri": "https://localhost:8080/"
        },
        "id": "RNVSO5XrFx27",
        "outputId": "21e58148-a03e-472c-eea7-ef48162af2b5"
      },
      "execution_count": 44,
      "outputs": [
        {
          "output_type": "stream",
          "name": "stdout",
          "text": [
            "The matrix A is:\n",
            " [[1. 1.]\n",
            " [3. 3.]]\n",
            "The matrix B is:\n",
            " [[1. 0. 0. 0.]\n",
            " [0. 1. 0. 0.]\n",
            " [0. 0. 1. 0.]\n",
            " [0. 0. 0. 1.]]\n",
            " Rank of A is: 1\n",
            " Rank of B is: 4\n",
            "The matrix C is:\n",
            " [[2 1 4]\n",
            " [4 6 8]]\n",
            " Rank of C is: 2\n"
          ]
        }
      ]
    },
    {
      "cell_type": "markdown",
      "source": [
        "# **Excercise 1.2**"
      ],
      "metadata": {
        "id": "bb7RvWl0IQ1O"
      }
    },
    {
      "cell_type": "markdown",
      "source": [
        "1. Check the Cauchy - Schwarz inequality for vectors V1 and V2:\n",
        "\n",
        "       V1 = [1 1 1]\n",
        "       V2 = [2 2 2]"
      ],
      "metadata": {
        "id": "u4Y5B-UJIVw8"
      }
    },
    {
      "cell_type": "code",
      "source": [
        "import numpy as np\n",
        "V1 = np.array([[1],[1],[1]])\n",
        "V2 = np.array([[2],[2],[2]])\n",
        "\n",
        "print(\"V1 : \\n\", V1)\n",
        "print(\"V2 : \\n\", V2)\n",
        "\n",
        "v1_v2_ip = np.dot(np.transpose(V1), V2)\n",
        "print(\"Inner Product of V1, V2: \",v1_v2_ip)\n",
        "\n",
        "norms = np.linalg.norm(V1) * np.linalg.norm(V2)\n",
        "print(\"Norms of V1, V2: \", np.round(norms))\n"
      ],
      "metadata": {
        "colab": {
          "base_uri": "https://localhost:8080/"
        },
        "id": "bvGeEpCKIQFB",
        "outputId": "3e092785-c241-4e8d-f920-edf56ee1cf08"
      },
      "execution_count": 45,
      "outputs": [
        {
          "output_type": "stream",
          "name": "stdout",
          "text": [
            "V1 : \n",
            " [[1]\n",
            " [1]\n",
            " [1]]\n",
            "V2 : \n",
            " [[2]\n",
            " [2]\n",
            " [2]]\n",
            "Inner Product of V1, V2:  [[6]]\n",
            "Norms of V1, V2:  6.0\n"
          ]
        }
      ]
    },
    {
      "cell_type": "markdown",
      "source": [
        "2. Check the Cauchy - Schwarz inequality for vectors v3 and v4.\n",
        "What do you observe from the above with respect to inequality?\n",
        "\n",
        "          V1 = [1 1 1]\n",
        "          V2 = [1 3 1]"
      ],
      "metadata": {
        "id": "Ovp7g6I5K1uH"
      }
    },
    {
      "cell_type": "code",
      "source": [
        "import numpy as np\n",
        "V3 = np.array([[1],[1],[1]])\n",
        "V4 = np.array([[1],[3],[1]])\n",
        "\n",
        "print(\"V3 : \\n\", V3)\n",
        "print(\"V4 : \\n\", V4)\n",
        "\n",
        "v3_v4_ip = np.dot(np.transpose(V3), V4)\n",
        "print(\"Inner Product of V3, V4: \",v3_v4_ip)\n",
        "\n",
        "norms = np.linalg.norm(V3) * np.linalg.norm(V4)\n",
        "print(\"Norms of V3, V4: \", np.round(norms))\n",
        "print(np.rad2deg(np.arccos(v3_v4_ip / norms)))"
      ],
      "metadata": {
        "colab": {
          "base_uri": "https://localhost:8080/"
        },
        "id": "2FGm7oMDLC0G",
        "outputId": "ad3d7336-b03b-44ad-f326-6f4fc622c5f4"
      },
      "execution_count": 46,
      "outputs": [
        {
          "output_type": "stream",
          "name": "stdout",
          "text": [
            "V3 : \n",
            " [[1]\n",
            " [1]\n",
            " [1]]\n",
            "V4 : \n",
            " [[1]\n",
            " [3]\n",
            " [1]]\n",
            "Inner Product of V3, V4:  [[5]]\n",
            "Norms of V3, V4:  6.0\n",
            "[[29.4962085]]\n"
          ]
        }
      ]
    },
    {
      "cell_type": "markdown",
      "source": [
        "3. Consider the following matrix A:\n",
        "        [[3, -1, 2],\n",
        "         [1, 2, 3],\n",
        "         [4, 1, 1]]\n",
        "\n",
        "Find the:\n",
        "\n",
        "1. Determinant of A\n",
        "2. Rank of A\n",
        "3. Inverse of A"
      ],
      "metadata": {
        "id": "eryY-G_NN0Pn"
      }
    },
    {
      "cell_type": "code",
      "source": [
        "import numpy as np\n",
        "A = np.array([[3, -1, 2],\n",
        "            [1, 2, 3],\n",
        "            [4, 1, 1]])\n",
        "\n",
        "print(\"\\nMatrix A \\n\",A)\n",
        "print(\"Shape of  A \\n\",A.shape)\n",
        "\n",
        "print(\"Determinant of A is:\",np.linalg.det(A))\n",
        "print(\"Rank of A is:\",np.linalg.matrix_rank(A))\n",
        "print('The inverse of A is:\\n', np.linalg.inv(A))"
      ],
      "metadata": {
        "colab": {
          "base_uri": "https://localhost:8080/"
        },
        "id": "-mCEF9olOFMq",
        "outputId": "dc059765-fe8b-40b0-91c7-6a65254f1233"
      },
      "execution_count": 47,
      "outputs": [
        {
          "output_type": "stream",
          "name": "stdout",
          "text": [
            "\n",
            "Matrix A \n",
            " [[ 3 -1  2]\n",
            " [ 1  2  3]\n",
            " [ 4  1  1]]\n",
            "Shape of  A \n",
            " (3, 3)\n",
            "Determinant of A is: -27.999999999999996\n",
            "Rank of A is: 3\n",
            "The inverse of A is:\n",
            " [[ 0.03571429 -0.10714286  0.25      ]\n",
            " [-0.39285714  0.17857143  0.25      ]\n",
            " [ 0.25        0.25       -0.25      ]]\n"
          ]
        }
      ]
    }
  ]
}